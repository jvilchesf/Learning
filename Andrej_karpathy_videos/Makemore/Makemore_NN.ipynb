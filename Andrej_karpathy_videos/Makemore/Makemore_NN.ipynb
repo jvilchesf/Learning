{
 "cells": [
  {
   "cell_type": "code",
   "execution_count": 61,
   "metadata": {},
   "outputs": [],
   "source": [
    "import pandas as pd\n",
    "import io\n",
    "import requests\n",
    "import matplotlib.pyplot as plt\n",
    "import torch\n",
    "import torch.nn.functional as F\n",
    "\n",
    "# Replace with the URL you copied\n",
    "url = 'https://raw.githubusercontent.com/jvilchesf/Learning/main/Andrej_karpathy_videos/Makemore/names.txt'\n",
    "\n",
    "response = requests.get(url)\n",
    "words = response.text.splitlines()"
   ]
  },
  {
   "cell_type": "code",
   "execution_count": 62,
   "metadata": {},
   "outputs": [],
   "source": [
    "chars = sorted(list(set(\"\".join(words))))\n",
    "stoi = {s:i+1 for i ,s in enumerate(chars)} \n",
    "stoi['.']= 0\n",
    "itos = {i:s for s,i in stoi.items()}"
   ]
  },
  {
   "cell_type": "code",
   "execution_count": 64,
   "metadata": {},
   "outputs": [
    {
     "name": "stdout",
     "output_type": "stream",
     "text": [
      "Total of words: 228146\n"
     ]
    }
   ],
   "source": [
    "#Create the training set of biagrams\n",
    "b = {}\n",
    "xs = []\n",
    "ys = []\n",
    "for w in words:\n",
    "    chs = ['.'] + list(w) + ['.']\n",
    "    for ch1, ch2 in zip(chs, chs[1:]):\n",
    "        x,y = stoi[ch1], stoi[ch2]\n",
    "        xs.append(x)\n",
    "        ys.append(y)\n",
    "xs = torch.tensor(xs)\n",
    "ys = torch.tensor(ys)\n",
    "\n",
    "#Total of words\n",
    "elements =  xs.nelement()\n",
    "print(f\"Total of words: {elements}\")\n",
    "\n",
    "#create a generator variable to repeat always the same random numbers\n",
    "g = torch.Generator().manual_seed(2147483647)\n",
    "#generate 27 random weights and 27 neurons (weigs x neurons = 27 x 27)  \n",
    "W = torch.randn((27,27), requires_grad = True, generator = g)"
   ]
  },
  {
   "cell_type": "code",
   "execution_count": 67,
   "metadata": {},
   "outputs": [
    {
     "name": "stdout",
     "output_type": "stream",
     "text": [
      "2.4611728191375732\n"
     ]
    }
   ],
   "source": [
    "for i in range(100):\n",
    "    #Forward pass\n",
    "    #A neuronal network doesn't get the input as a number, it gets it as a one hot encoding format\n",
    "    one_hot_xs = F.one_hot(xs, num_classes=27).float()\n",
    "    #Create the logits, multiplying the one hot encoding by the weights\n",
    "    logits = one_hot_xs @ W \n",
    "    #logits have to be > 0, so we apply the softmax function\n",
    "    counts = logits.exp()\n",
    "    #Normalization to create probabilities \n",
    "    probs = counts / counts.sum(1, keepdim = True)\n",
    "    #Loss function\n",
    "    loss = -probs[torch.arange(elements),ys].log().mean()\n",
    "\n",
    "    #backward pass\n",
    "    W.grad = None\n",
    "    loss.backward()\n",
    "\n",
    "    #Update weights\n",
    "    W.data -= W.grad * 50\n",
    "\n",
    "print(loss.item())"
   ]
  },
  {
   "cell_type": "code",
   "execution_count": 71,
   "metadata": {},
   "outputs": [
    {
     "name": "stdout",
     "output_type": "stream",
     "text": [
      "junide.\n",
      "janasah.\n",
      "prelay.\n",
      "a.\n",
      "nn.\n"
     ]
    }
   ],
   "source": [
    "#Test the model\n",
    "g = torch.Generator().manual_seed(2147483647)\n",
    "\n",
    "for i in range(5):\n",
    "\n",
    "    out = []\n",
    "    ix = 0\n",
    "    while True:\n",
    "\n",
    "        exc = F.one_hot(torch.tensor([ix]), num_classes = 27).float()\n",
    "        logits = exc @ W\n",
    "        count = logits.exp()\n",
    "        prob = count / count.sum(1, keepdim = True)\n",
    "\n",
    "        ix = torch.multinomial(prob, num_samples = 1, generator = g).item()\n",
    "        out.append(itos[ix])\n",
    "        if ix == 0:\n",
    "            break\n",
    "    print(''.join(out))"
   ]
  }
 ],
 "metadata": {
  "kernelspec": {
   "display_name": "Python 3",
   "language": "python",
   "name": "python3"
  },
  "language_info": {
   "codemirror_mode": {
    "name": "ipython",
    "version": 3
   },
   "file_extension": ".py",
   "mimetype": "text/x-python",
   "name": "python",
   "nbconvert_exporter": "python",
   "pygments_lexer": "ipython3",
   "version": "3.11.5"
  }
 },
 "nbformat": 4,
 "nbformat_minor": 2
}
