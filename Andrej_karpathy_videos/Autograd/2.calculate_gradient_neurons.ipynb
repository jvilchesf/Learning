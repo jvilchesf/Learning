{
 "cells": [
  {
   "cell_type": "markdown",
   "metadata": {},
   "source": [
    "## Imports"
   ]
  },
  {
   "cell_type": "code",
   "execution_count": 453,
   "metadata": {},
   "outputs": [],
   "source": [
    "import pandas as pd\n",
    "import numpy as np\n",
    "import matplotlib.pyplot as plt"
   ]
  },
  {
   "cell_type": "markdown",
   "metadata": {},
   "source": [
    "## Class"
   ]
  },
  {
   "cell_type": "code",
   "execution_count": 454,
   "metadata": {},
   "outputs": [],
   "source": [
    "class value():\n",
    "    def __init__(self, data, _children = (), _op = None, label = ''):\n",
    "        self.data = data\n",
    "        self.grad = 0\n",
    "        \n",
    "        self._backward = lambda: None\n",
    "        self._prev = set(_children)\n",
    "        self._op = _op\n",
    "        self.label = label\n",
    "    \n",
    "    def __add__(self,other):\n",
    "        other = other if isinstance(other,value) else value(other)  \n",
    "        out = value(self.data + other.data, (self,other), '+')\n",
    "\n",
    "        def _backward():\n",
    "            self.grad +=  out.grad\n",
    "            other.grad += out.grad\n",
    "        out._backward = _backward\n",
    "        return out  \n",
    "\n",
    "    def exp(self):\n",
    "        x = self.data\n",
    "        t =  np.exp(x)\n",
    "        out = value(t, (self,), 'exp')\n",
    "        def _backward():\n",
    "            self.grad += t * out.grad\n",
    "        out._backward = _backward\n",
    "        return out\n",
    "    \n",
    "    def div(self, other):\n",
    "        other = other if isinstance(other,value) else value(other)  \n",
    "        out = value(self.data / other.data, (self,other), '/')\n",
    "        def _backward():\n",
    "            self.grad += 1 / other.data * out.grad\n",
    "            other.grad += -self.data / (other.data ** 2) * out.grad\n",
    "        out._backward = _backward\n",
    "        return out\n",
    "    \n",
    "\n",
    "    def __mul__(self,other):\n",
    "        other = other if isinstance(other,value) else value(other) \n",
    "        out = value(self.data * other.data, (self,other), '*')\n",
    "        def _backward():    \n",
    "            self.grad += other.data * out.grad\n",
    "            other.grad += self.data * out.grad\n",
    "        out._backward = _backward\n",
    "        return out\n",
    "    \n",
    "        \n",
    "    def __pow__(self,other):    \n",
    "        assert isinstance(other, (int,float)), \"Power must be a scalar\"\n",
    "        out = value(self.data ** other, (self,), f'**{other}')\n",
    "        \n",
    "        def _backward():\n",
    "            self.grad += other * (self.data ** (other - 1)) * out.grad  \n",
    "        out._backward = _backward\n",
    "        return out\n",
    "    \n",
    "    def relu(self):\n",
    "        out = value(0 if self.data < 0 else self.data, (self,), 'ReLU')\n",
    "\n",
    "        def _backward():\n",
    "            self.grad += (out.data > 0) * out.grad\n",
    "        out._backward = _backward\n",
    "\n",
    "        return out\n",
    "    \n",
    "    def backward(self):\n",
    "        topo = []\n",
    "        visited = set()\n",
    "        def build_topo(v):\n",
    "            if v not in visited:\n",
    "                visited.add(v)\n",
    "                for child in v._prev:\n",
    "                    build_topo(child)\n",
    "                topo.append(v)\n",
    "        build_topo(self)\n",
    "        self.grad = 1\n",
    "        for v in reversed(topo):\n",
    "            v._backward()\n",
    "\n",
    "    def __neg__(self): # -self\n",
    "        return self * -1\n",
    "\n",
    "    def __radd__(self, other): # other + self\n",
    "        return self + other\n",
    "\n",
    "    def __sub__(self, other): # self - other\n",
    "        return self + (-other)\n",
    "\n",
    "    def __rsub__(self, other): # other - self\n",
    "        return other + (-self)\n",
    "\n",
    "    def __rmul__(self, other): # other * self\n",
    "        return self * other\n",
    "\n",
    "    def __truediv__(self, other): # self / other\n",
    "        return self * other**-1\n",
    "\n",
    "    def __rtruediv__(self, other): # other / self\n",
    "        return other * self**-1\n",
    "\n",
    "    def __repr__(self):\n",
    "        return f\"Value(data={self.data}, grad={self.grad})\""
   ]
  },
  {
   "cell_type": "markdown",
   "metadata": {},
   "source": [
    "## Graph"
   ]
  },
  {
   "cell_type": "code",
   "execution_count": 455,
   "metadata": {},
   "outputs": [],
   "source": [
    "import graphviz  \n",
    "from IPython.display import display, SVG\n",
    "\n",
    "def get_nodes_edges(root):\n",
    "    # build a set upt with all the nodes and edges\n",
    "    nodes, edges = set(), set()\n",
    "    def build(v):\n",
    "        if v not in nodes:\n",
    "            nodes.add(v)\n",
    "            for child in v._prev:\n",
    "                edges.add((child, v))\n",
    "                build(child)\n",
    "    build(root)\n",
    "    return nodes, edges\n",
    "\n",
    "def draw_graph(root):\n",
    "    ps = graphviz.Digraph(format = 'svg', graph_attr = {'rankdir' : 'LR'} )\n",
    "    \n",
    "    nodes, edges = get_nodes_edges(root)\n",
    "\n",
    "    for n in nodes:\n",
    "        uid = str(id(n))\n",
    "        #for any value in the graph, create a rectangle with the data of the value\n",
    "        ps.node(uid, label = \"{%s | data %.3f | grad %.3f}\" % (n.label, n.data, n.grad), shape = 'record') \n",
    "        \n",
    "        if n._op:\n",
    "            #if this value is a result of an operation, create a circle with the operation\n",
    "            ps.node(name =uid + n._op, label = n._op)\n",
    "            #create an edge between the value and the operation\n",
    "            ps.edge(uid + n._op, uid)\n",
    "\n",
    "    for n1, n2 in edges:\n",
    "        #connect the nodes\n",
    "        ps.edge(str(id(n1)), str(id(n2)) + n2._op )\n",
    "\n",
    "    svg_data = ps.pipe(format='svg')\n",
    "    display(SVG(svg_data))"
   ]
  },
  {
   "cell_type": "markdown",
   "metadata": {},
   "source": [
    "## Neuron and layers Class"
   ]
  },
  {
   "cell_type": "code",
   "execution_count": 456,
   "metadata": {},
   "outputs": [],
   "source": [
    "class Neurons():\n",
    "    def __init__(self, nin ):\n",
    "        self.w = [value(np.random.uniform(-1,1)) for _ in range(nin)]\n",
    "        self.b = value(0)\n",
    "\n",
    "\n",
    "    def __call__(self, x):\n",
    "        act = sum((wi*xi for wi,xi in zip(self.w, x)), self.b)\n",
    "        return act.relu() \n",
    "    \n",
    "    def parameters(self):\n",
    "        return self.w + [self.b]\n",
    "    \n",
    "    def __repr__(self):\n",
    "        return f\"{'ReLU' if self.nonlin else 'Linear'}Neuron({len(self.w)})\"\n",
    "    \n",
    "class Layer():\n",
    "    def __init__(self, nin, nout):\n",
    "        self.neurons = [Neurons(nin) for _ in range(nout)] \n",
    "\n",
    "    def __call__(self, x):\n",
    "        outs = [n(x) for n in self.neurons]\n",
    "        return outs[0] if len(outs) == 1 else outs\n",
    "    \n",
    "    def parameters(self):\n",
    "        return [p for n in self.neurons for p in n.parameters()]    \n",
    "    \n",
    "    def __repr__(self):\n",
    "        return f\"Layer of [{', '.join(str(n) for n in self.neurons)}]\"\n",
    "\n",
    "class MLP():\n",
    "    def __init__(self, nin, nouts):\n",
    "        sz = [nin] + nouts\n",
    "        self.layers = [Layer(sz[i], sz[i+1]) for i in range(len(nouts))]\n",
    "\n",
    "    \n",
    "    def __call__(self, x):\n",
    "        for layer in self.layers:\n",
    "            x = layer(x)\n",
    "        return x\n",
    "    \n",
    "    def parameters(self):\n",
    "        return [p for l in self.layers for p in l.parameters()]\n"
   ]
  },
  {
   "cell_type": "code",
   "execution_count": 457,
   "metadata": {},
   "outputs": [],
   "source": [
    "x = [2.0, 3.0, -2.0]\n",
    "n = MLP(3, [4, 4, 1])"
   ]
  },
  {
   "cell_type": "code",
   "execution_count": 458,
   "metadata": {},
   "outputs": [],
   "source": [
    "xs = [\n",
    "    [2.0, 3.0, -2.0],\n",
    "    [1.0, 2.0, 3.0],\n",
    "    [2.0, 3.0, -2.0],\n",
    "    [1.0, 2.0, 3.0]\n",
    "    ]\n",
    "ygt = [1.0, -1.0, -1.0, 1.0]"
   ]
  },
  {
   "cell_type": "code",
   "execution_count": 459,
   "metadata": {},
   "outputs": [
    {
     "data": {
      "text/plain": [
       "Value(data=14.48921173345732, grad=0)"
      ]
     },
     "execution_count": 459,
     "metadata": {},
     "output_type": "execute_result"
    }
   ],
   "source": [
    "y_pred = [n(x) for x in xs]\n",
    "loss = sum((ygt - yout)**2 for ygt, yout in list(zip(ygt, y_pred)))\n",
    "loss"
   ]
  },
  {
   "cell_type": "code",
   "execution_count": 460,
   "metadata": {},
   "outputs": [
    {
     "data": {
      "text/plain": [
       "[Value(data=0.6574219854790766, grad=0),\n",
       " Value(data=2.193718805986175, grad=0),\n",
       " Value(data=0.6574219854790766, grad=0),\n",
       " Value(data=2.193718805986175, grad=0)]"
      ]
     },
     "execution_count": 460,
     "metadata": {},
     "output_type": "execute_result"
    }
   ],
   "source": [
    "y_pred"
   ]
  },
  {
   "cell_type": "code",
   "execution_count": 461,
   "metadata": {},
   "outputs": [],
   "source": [
    "loss.backward()"
   ]
  },
  {
   "cell_type": "code",
   "execution_count": 462,
   "metadata": {},
   "outputs": [],
   "source": [
    "# update parameters\n",
    "for p in n.parameters():\n",
    "    p.data -= 0.01 * p.grad\n"
   ]
  },
  {
   "cell_type": "code",
   "execution_count": 463,
   "metadata": {},
   "outputs": [
    {
     "name": "stdout",
     "output_type": "stream",
     "text": [
      "0 4.0\n",
      "1 4.0\n",
      "2 4.0\n",
      "3 4.0\n",
      "4 4.0\n",
      "5 4.0\n",
      "6 4.0\n",
      "7 4.0\n",
      "8 4.0\n",
      "9 4.0\n",
      "10 4.0\n",
      "11 4.0\n",
      "12 4.0\n",
      "13 4.0\n",
      "14 4.0\n",
      "15 4.0\n",
      "16 4.0\n",
      "17 4.0\n",
      "18 4.0\n",
      "19 4.0\n"
     ]
    }
   ],
   "source": [
    "for k in range(20):\n",
    "\n",
    "    #forward pass\n",
    "    y_pred = [n(x) for x in xs]\n",
    "    loss = sum((ygt - yout)**2 for ygt, yout in list(zip(ygt, y_pred)))\n",
    "\n",
    "    #backward pass\n",
    "    for p in n.parameters():\n",
    "        p.grad = 0\n",
    "    loss.backward()\n",
    "\n",
    "    #update parameters\n",
    "    for p in n.parameters():\n",
    "        p.data += -0.001 * p.grad\n",
    "\n",
    "    print(k, loss.data)"
   ]
  }
 ],
 "metadata": {
  "kernelspec": {
   "display_name": "Python 3",
   "language": "python",
   "name": "python3"
  },
  "language_info": {
   "codemirror_mode": {
    "name": "ipython",
    "version": 3
   },
   "file_extension": ".py",
   "mimetype": "text/x-python",
   "name": "python",
   "nbconvert_exporter": "python",
   "pygments_lexer": "ipython3",
   "version": "3.11.5"
  }
 },
 "nbformat": 4,
 "nbformat_minor": 2
}
