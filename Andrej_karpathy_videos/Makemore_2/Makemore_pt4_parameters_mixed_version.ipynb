{
 "cells": [
  {
   "cell_type": "code",
   "execution_count": 44,
   "metadata": {},
   "outputs": [],
   "source": [
    "# Read libraries and data\n",
    "import torch\n",
    "import pandas as pd\n",
    "import requests\n",
    "import torch.nn.functional as F\n",
    "import matplotlib.pyplot as plt\n",
    "\n",
    "# Replace with the URL you copied\n",
    "url = 'https://raw.githubusercontent.com/jvilchesf/Learning/main/Andrej_karpathy_videos/Makemore/names.txt'\n",
    "\n",
    "response = requests.get(url)\n",
    "words = response.text.splitlines()"
   ]
  },
  {
   "cell_type": "code",
   "execution_count": 45,
   "metadata": {},
   "outputs": [
    {
     "name": "stdout",
     "output_type": "stream",
     "text": [
      "{1: 'a', 2: 'b', 3: 'c', 4: 'd', 5: 'e', 6: 'f', 7: 'g', 8: 'h', 9: 'i', 10: 'j', 11: 'k', 12: 'l', 13: 'm', 14: 'n', 15: 'o', 16: 'p', 17: 'q', 18: 'r', 19: 's', 20: 't', 21: 'u', 22: 'v', 23: 'w', 24: 'x', 25: 'y', 26: 'z', 0: '.'}\n"
     ]
    }
   ],
   "source": [
    "# build the vocabulary of characters and mappings to/from integers\n",
    "chars = sorted(list(set(''.join(words))))\n",
    "stoi = {s:i+1 for i,s in enumerate(chars)}\n",
    "stoi['.'] = 0\n",
    "itos = {i:s for s,i in stoi.items()}\n",
    "print(itos)"
   ]
  },
  {
   "cell_type": "code",
   "execution_count": 46,
   "metadata": {},
   "outputs": [
    {
     "name": "stdout",
     "output_type": "stream",
     "text": [
      "torch.Size([182625, 3]) torch.Size([182625])\n",
      "torch.Size([22655, 3]) torch.Size([22655])\n",
      "torch.Size([22866, 3]) torch.Size([22866])\n"
     ]
    }
   ],
   "source": [
    "block_size = 3 # context length: how many characters do we take to predict the next one?\n",
    "\n",
    "def build_dataset(words):\n",
    "    #Creating the dataset\n",
    "    context = []\n",
    "    X , Y = [], []\n",
    "    for w in words: \n",
    "\n",
    "        context = [0] * block_size  \n",
    "\n",
    "        for i in w + '.':\n",
    "            idx = stoi[i]\n",
    "            X.append(context)\n",
    "            Y.append(idx)\n",
    "            #print(f\"{context} -> {i}\")\n",
    "            context = context[1:] + [idx]\n",
    "        #print(\"-----------------\")\n",
    "\n",
    "    X = torch.tensor(X)    \n",
    "    Y = torch.tensor(Y)    \n",
    "    print(X.shape,Y.shape)\n",
    "    return X,Y\n",
    "\n",
    "import random\n",
    "\n",
    "random.seed(42)\n",
    "random.shuffle(words)\n",
    "n1 = int(len(words)*0.8)\n",
    "n2 = int(len(words)*0.9)\n",
    "\n",
    "Xtr , Ytr = build_dataset(words[:n1])\n",
    "Xdev , Ydev = build_dataset(words[n1:n2])\n",
    "Xte , Yte = build_dataset(words[n2: ])"
   ]
  },
  {
   "cell_type": "code",
   "execution_count": 47,
   "metadata": {},
   "outputs": [],
   "source": [
    "g = torch.Generator().manual_seed(2147483647) # for reproducibility\n",
    "C = torch.randn((27, 10), generator=g)\n",
    "W1 = torch.randn((30, 200), generator=g)\n",
    "b1 = torch.randn(200, generator=g)\n",
    "W2 = torch.randn((200, 27), generator=g)\n",
    "b2 = torch.randn(27, generator=g)\n",
    "parameters = [C, W1, b1, W2, b2]"
   ]
  },
  {
   "cell_type": "code",
   "execution_count": 48,
   "metadata": {},
   "outputs": [
    {
     "data": {
      "text/plain": [
       "11897"
      ]
     },
     "execution_count": 48,
     "metadata": {},
     "output_type": "execute_result"
    }
   ],
   "source": [
    "sum(p.nelement() for p in parameters) # number of parameters in total"
   ]
  },
  {
   "cell_type": "code",
   "execution_count": 49,
   "metadata": {},
   "outputs": [],
   "source": [
    "for p in parameters:\n",
    "  p.requires_grad = True"
   ]
  },
  {
   "cell_type": "code",
   "execution_count": 50,
   "metadata": {},
   "outputs": [],
   "source": [
    "lre = torch.linspace(-3, 0, 1000)\n",
    "lrs = 10**lre"
   ]
  },
  {
   "cell_type": "code",
   "execution_count": 51,
   "metadata": {},
   "outputs": [],
   "source": [
    "lri = []\n",
    "lossi = []\n",
    "steps= []\n",
    "gradi = []\n",
    "loop = 200000"
   ]
  },
  {
   "cell_type": "code",
   "execution_count": 52,
   "metadata": {},
   "outputs": [
    {
     "name": "stdout",
     "output_type": "stream",
     "text": [
      "tensor(2.4944, grad_fn=<NllLossBackward0>)\n"
     ]
    }
   ],
   "source": [
    "for i in range(loop):\n",
    "\n",
    "    #batches\n",
    "    idx = torch.randint(0, Xtr.shape[0], (32,)) # [32]\n",
    "\n",
    "    #Forward\n",
    "    emb = C[Xtr[idx]] # [32x3x10]\n",
    "    h = torch.tanh(emb.view(-1, 30) @ W1 + b1) # [32x300] \n",
    "    logits = h @ W2 + b2 # [32x27]\n",
    "    loss = F.cross_entropy(logits,Ytr[idx])\n",
    "    #print(loss.item())\n",
    "\n",
    "    #Backward pass\n",
    "    for p in parameters:\n",
    "        p.grad = None\n",
    "    loss.backward()\n",
    "\n",
    "    #update the parameters\n",
    "    loops1 = loop * 0.1\n",
    "    loops2 = loop * 0.5\n",
    "    if i < loops1:\n",
    "        lr = 0.1\n",
    "    elif (i > loops1) & (i < loops2):\n",
    "        lr = 0.05\n",
    "    elif i > loops2:\n",
    "        lr = 0.01    \n",
    "\n",
    "    for p in parameters:\n",
    "        p.data -= p.grad * lr\n",
    "\n",
    "    if i % 1000 == 0:    \n",
    "        gradi.append(lr)\n",
    "        lossi.append(loss.item())\n",
    "        steps.append(i) \n",
    "\n",
    "#Create a dataframe with the results\n",
    "df = pd.DataFrame({'Steps': steps, 'Learning Rate': gradi, 'Loss': lossi})\n",
    "\n",
    "print(loss)"
   ]
  },
  {
   "cell_type": "code",
   "execution_count": 53,
   "metadata": {},
   "outputs": [
    {
     "data": {
      "text/plain": [
       "[<matplotlib.lines.Line2D at 0x1279f2b10>]"
      ]
     },
     "execution_count": 53,
     "metadata": {},
     "output_type": "execute_result"
    },
    {
     "data": {
      "image/png": "[encoded data removed]",
      "text/plain": [
       "<Figure size 640x480 with 1 Axes>"
      ]
     },
     "metadata": {},
     "output_type": "display_data"
    }
   ],
   "source": [
    "plt.plot(steps, lossi)"
   ]
  },
  {
   "cell_type": "code",
   "execution_count": 54,
   "metadata": {},
   "outputs": [
    {
     "data": {
      "text/plain": [
       "tensor(2.1650, grad_fn=<NllLossBackward0>)"
      ]
     },
     "execution_count": 54,
     "metadata": {},
     "output_type": "execute_result"
    }
   ],
   "source": [
    "# training loss \n",
    "emb = C[Xtr] # (32, 3, 2)\n",
    "h = torch.tanh(emb.view(-1, 30) @ W1 + b1) # (32, 100)\n",
    "logits = h @ W2 + b2 # (32, 27)\n",
    "loss = F.cross_entropy(logits, Ytr)\n",
    "loss"
   ]
  },
  {
   "cell_type": "code",
   "execution_count": 55,
   "metadata": {},
   "outputs": [
    {
     "data": {
      "text/plain": [
       "tensor(2.2033, grad_fn=<NllLossBackward0>)"
      ]
     },
     "execution_count": 55,
     "metadata": {},
     "output_type": "execute_result"
    }
   ],
   "source": [
    "# validation loss\n",
    "emb = C[Xdev] # (32, 3, 2)\n",
    "h = torch.tanh(emb.view(-1, 30) @ W1 + b1) # (32, 100)\n",
    "logits = h @ W2 + b2 # (32, 27)\n",
    "loss = F.cross_entropy(logits, Ydev)\n",
    "loss"
   ]
  },
  {
   "cell_type": "code",
   "execution_count": 56,
   "metadata": {},
   "outputs": [
    {
     "data": {
      "text/plain": [
       "tensor(2.1938, grad_fn=<NllLossBackward0>)"
      ]
     },
     "execution_count": 56,
     "metadata": {},
     "output_type": "execute_result"
    }
   ],
   "source": [
    "# test loss\n",
    "emb = C[Xte] # (32, 3, 2)\n",
    "h = torch.tanh(emb.view(-1, 30) @ W1 + b1) # (32, 100)\n",
    "logits = h @ W2 + b2 # (32, 27)\n",
    "loss = F.cross_entropy(logits, Yte)\n",
    "loss"
   ]
  },
  {
   "cell_type": "code",
   "execution_count": 57,
   "metadata": {},
   "outputs": [
    {
     "data": {
      "image/png": "[encoded data removed]",
      "text/plain": [
       "<Figure size 1500x500 with 1 Axes>"
      ]
     },
     "metadata": {},
     "output_type": "display_data"
    }
   ],
   "source": [
    "fig = plt.figure(figsize = (15,5))\n",
    "ax1 = fig.add_subplot(1, 2, 1)\n",
    "plt.scatter(C[:,0].data, C[:,1].data, s = 200)\n",
    "for i in range(26):\n",
    "    plt.text(C[i,0].item(), C[i,1].item(), itos[i], ha= 'center', va= 'center', color = 'white') "
   ]
  },
  {
   "cell_type": "code",
   "execution_count": 66,
   "metadata": {},
   "outputs": [
    {
     "name": "stdout",
     "output_type": "stream",
     "text": [
      "reenai.\n",
      "rah.\n",
      "zarghan.\n",
      "neah.\n",
      "zika.\n",
      "ker.\n",
      "malya.\n",
      "srain.\n",
      "eem.\n",
      "jaxmeeri.\n",
      "tamela.\n",
      "karaanis.\n",
      "malzee.\n",
      "kenlie.\n",
      "aue.\n",
      "jed.\n",
      "les.\n",
      "lor.\n",
      "kalexs.\n",
      "thaqfaeshes.\n",
      "kashabitlah.\n",
      "jalaya.\n",
      "benah.\n",
      "lissa.\n",
      "blaya.\n",
      "alrias.\n",
      "dyxenn.\n",
      "kyra.\n",
      "frida.\n",
      "cheb.\n",
      "azzawaleigo.\n",
      "jatuse.\n",
      "kasya.\n",
      "larrigaafdommaun.\n",
      "emoniyah.\n",
      "aan.\n",
      "harian.\n",
      "tamaruf.\n",
      "zaher.\n",
      "javeen.\n",
      "tayder.\n",
      "esaniph.\n",
      "ter.\n",
      "amaema.\n",
      "eesa.\n",
      "artiariel.\n",
      "kaserizia.\n",
      "have.\n",
      "kah.\n",
      "junia.\n",
      "daver.\n",
      "enser.\n",
      "ese.\n",
      "jouma.\n",
      "marieliss.\n",
      "kaya.\n",
      "alee.\n",
      "pera.\n",
      "hanna.\n",
      "rhis.\n",
      "iim.\n",
      "jani.\n",
      "eman.\n",
      "alaz.\n",
      "min.\n",
      "trick.\n",
      "vii.\n",
      "rasher.\n",
      "maver.\n",
      "katilla.\n",
      "johalliyah.\n",
      "pria.\n",
      "darion.\n",
      "jivone.\n",
      "kum.\n",
      "nack.\n",
      "linixg.\n",
      "kemari.\n",
      "bayah.\n",
      "yulah.\n",
      "marya.\n",
      "riz.\n",
      "bryleiganif.\n",
      "nia.\n",
      "yesiel.\n",
      "naley.\n",
      "per.\n",
      "milomee.\n",
      "dan.\n",
      "sszosiffania.\n",
      "satel.\n",
      "buxlea.\n",
      "preou.\n",
      "xay.\n",
      "daliani.\n",
      "pen.\n",
      "koralie.\n",
      "esifiriapin.\n",
      "aumellie.\n",
      "ila.\n"
     ]
    }
   ],
   "source": [
    "g = torch.Generator().manual_seed(2147483647 +11)\n",
    "block_size = 3\n",
    "generated_names = []\n",
    "\n",
    "for _ in range(100):\n",
    "\n",
    "    out = []\n",
    "    context = block_size * [0]\n",
    "    while True:\n",
    "        emb = C[torch.tensor([context])]\n",
    "        h = torch.tanh(emb.view(1, -1) @ W1 + b1)\n",
    "        logits = h @ W2 + b2\n",
    "        prob = F.softmax(logits, dim = 1)\n",
    "        ix = torch.multinomial(prob, num_samples = 1, generator = g).item()\n",
    "        context = context[1:] + [ix]\n",
    "        out.append(ix)\n",
    "        if ix == 0:\n",
    "            break\n",
    "    \n",
    "    generated_name = ''.join(itos[i] for i in out)\n",
    "    generated_names.append(generated_name)\n",
    "\n",
    "    \n",
    "    print(''.join(itos[i] for i in out))\n",
    "\n",
    "# Create a DataFrame from the generated names\n",
    "df = pd.DataFrame(generated_names, columns=['Generated Names'])"
   ]
  },
  {
   "cell_type": "code",
   "execution_count": 68,
   "metadata": {},
   "outputs": [
    {
     "data": {
      "text/html": [
       "<div>\n",
       "<style scoped>\n",
       "    .dataframe tbody tr th:only-of-type {\n",
       "        vertical-align: middle;\n",
       "    }\n",
       "\n",
       "    .dataframe tbody tr th {\n",
       "        vertical-align: top;\n",
       "    }\n",
       "\n",
       "    .dataframe thead th {\n",
       "        text-align: right;\n",
       "    }\n",
       "</style>\n",
       "<table border=\"1\" class=\"dataframe\">\n",
       "  <thead>\n",
       "    <tr style=\"text-align: right;\">\n",
       "      <th></th>\n",
       "      <th>Generated Names</th>\n",
       "    </tr>\n",
       "  </thead>\n",
       "  <tbody>\n",
       "    <tr>\n",
       "      <th>0</th>\n",
       "      <td>reenai.</td>\n",
       "    </tr>\n",
       "    <tr>\n",
       "      <th>1</th>\n",
       "      <td>rah.</td>\n",
       "    </tr>\n",
       "    <tr>\n",
       "      <th>2</th>\n",
       "      <td>zarghan.</td>\n",
       "    </tr>\n",
       "    <tr>\n",
       "      <th>3</th>\n",
       "      <td>neah.</td>\n",
       "    </tr>\n",
       "    <tr>\n",
       "      <th>4</th>\n",
       "      <td>zika.</td>\n",
       "    </tr>\n",
       "    <tr>\n",
       "      <th>5</th>\n",
       "      <td>ker.</td>\n",
       "    </tr>\n",
       "    <tr>\n",
       "      <th>6</th>\n",
       "      <td>malya.</td>\n",
       "    </tr>\n",
       "    <tr>\n",
       "      <th>7</th>\n",
       "      <td>srain.</td>\n",
       "    </tr>\n",
       "    <tr>\n",
       "      <th>8</th>\n",
       "      <td>eem.</td>\n",
       "    </tr>\n",
       "    <tr>\n",
       "      <th>9</th>\n",
       "      <td>jaxmeeri.</td>\n",
       "    </tr>\n",
       "    <tr>\n",
       "      <th>10</th>\n",
       "      <td>tamela.</td>\n",
       "    </tr>\n",
       "    <tr>\n",
       "      <th>11</th>\n",
       "      <td>karaanis.</td>\n",
       "    </tr>\n",
       "    <tr>\n",
       "      <th>12</th>\n",
       "      <td>malzee.</td>\n",
       "    </tr>\n",
       "    <tr>\n",
       "      <th>13</th>\n",
       "      <td>kenlie.</td>\n",
       "    </tr>\n",
       "    <tr>\n",
       "      <th>14</th>\n",
       "      <td>aue.</td>\n",
       "    </tr>\n",
       "    <tr>\n",
       "      <th>15</th>\n",
       "      <td>jed.</td>\n",
       "    </tr>\n",
       "    <tr>\n",
       "      <th>16</th>\n",
       "      <td>les.</td>\n",
       "    </tr>\n",
       "    <tr>\n",
       "      <th>17</th>\n",
       "      <td>lor.</td>\n",
       "    </tr>\n",
       "    <tr>\n",
       "      <th>18</th>\n",
       "      <td>kalexs.</td>\n",
       "    </tr>\n",
       "    <tr>\n",
       "      <th>19</th>\n",
       "      <td>thaqfaeshes.</td>\n",
       "    </tr>\n",
       "    <tr>\n",
       "      <th>20</th>\n",
       "      <td>kashabitlah.</td>\n",
       "    </tr>\n",
       "    <tr>\n",
       "      <th>21</th>\n",
       "      <td>jalaya.</td>\n",
       "    </tr>\n",
       "    <tr>\n",
       "      <th>22</th>\n",
       "      <td>benah.</td>\n",
       "    </tr>\n",
       "    <tr>\n",
       "      <th>23</th>\n",
       "      <td>lissa.</td>\n",
       "    </tr>\n",
       "    <tr>\n",
       "      <th>24</th>\n",
       "      <td>blaya.</td>\n",
       "    </tr>\n",
       "    <tr>\n",
       "      <th>25</th>\n",
       "      <td>alrias.</td>\n",
       "    </tr>\n",
       "    <tr>\n",
       "      <th>26</th>\n",
       "      <td>dyxenn.</td>\n",
       "    </tr>\n",
       "    <tr>\n",
       "      <th>27</th>\n",
       "      <td>kyra.</td>\n",
       "    </tr>\n",
       "    <tr>\n",
       "      <th>28</th>\n",
       "      <td>frida.</td>\n",
       "    </tr>\n",
       "    <tr>\n",
       "      <th>29</th>\n",
       "      <td>cheb.</td>\n",
       "    </tr>\n",
       "    <tr>\n",
       "      <th>30</th>\n",
       "      <td>azzawaleigo.</td>\n",
       "    </tr>\n",
       "    <tr>\n",
       "      <th>31</th>\n",
       "      <td>jatuse.</td>\n",
       "    </tr>\n",
       "    <tr>\n",
       "      <th>32</th>\n",
       "      <td>kasya.</td>\n",
       "    </tr>\n",
       "    <tr>\n",
       "      <th>33</th>\n",
       "      <td>larrigaafdommaun.</td>\n",
       "    </tr>\n",
       "    <tr>\n",
       "      <th>34</th>\n",
       "      <td>emoniyah.</td>\n",
       "    </tr>\n",
       "    <tr>\n",
       "      <th>35</th>\n",
       "      <td>aan.</td>\n",
       "    </tr>\n",
       "    <tr>\n",
       "      <th>36</th>\n",
       "      <td>harian.</td>\n",
       "    </tr>\n",
       "    <tr>\n",
       "      <th>37</th>\n",
       "      <td>tamaruf.</td>\n",
       "    </tr>\n",
       "    <tr>\n",
       "      <th>38</th>\n",
       "      <td>zaher.</td>\n",
       "    </tr>\n",
       "    <tr>\n",
       "      <th>39</th>\n",
       "      <td>javeen.</td>\n",
       "    </tr>\n",
       "    <tr>\n",
       "      <th>40</th>\n",
       "      <td>tayder.</td>\n",
       "    </tr>\n",
       "    <tr>\n",
       "      <th>41</th>\n",
       "      <td>esaniph.</td>\n",
       "    </tr>\n",
       "    <tr>\n",
       "      <th>42</th>\n",
       "      <td>ter.</td>\n",
       "    </tr>\n",
       "    <tr>\n",
       "      <th>43</th>\n",
       "      <td>amaema.</td>\n",
       "    </tr>\n",
       "    <tr>\n",
       "      <th>44</th>\n",
       "      <td>eesa.</td>\n",
       "    </tr>\n",
       "    <tr>\n",
       "      <th>45</th>\n",
       "      <td>artiariel.</td>\n",
       "    </tr>\n",
       "    <tr>\n",
       "      <th>46</th>\n",
       "      <td>kaserizia.</td>\n",
       "    </tr>\n",
       "    <tr>\n",
       "      <th>47</th>\n",
       "      <td>have.</td>\n",
       "    </tr>\n",
       "    <tr>\n",
       "      <th>48</th>\n",
       "      <td>kah.</td>\n",
       "    </tr>\n",
       "    <tr>\n",
       "      <th>49</th>\n",
       "      <td>junia.</td>\n",
       "    </tr>\n",
       "  </tbody>\n",
       "</table>\n",
       "</div>"
      ],
      "text/plain": [
       "      Generated Names\n",
       "0             reenai.\n",
       "1                rah.\n",
       "2            zarghan.\n",
       "3               neah.\n",
       "4               zika.\n",
       "5                ker.\n",
       "6              malya.\n",
       "7              srain.\n",
       "8                eem.\n",
       "9           jaxmeeri.\n",
       "10            tamela.\n",
       "11          karaanis.\n",
       "12            malzee.\n",
       "13            kenlie.\n",
       "14               aue.\n",
       "15               jed.\n",
       "16               les.\n",
       "17               lor.\n",
       "18            kalexs.\n",
       "19       thaqfaeshes.\n",
       "20       kashabitlah.\n",
       "21            jalaya.\n",
       "22             benah.\n",
       "23             lissa.\n",
       "24             blaya.\n",
       "25            alrias.\n",
       "26            dyxenn.\n",
       "27              kyra.\n",
       "28             frida.\n",
       "29              cheb.\n",
       "30       azzawaleigo.\n",
       "31            jatuse.\n",
       "32             kasya.\n",
       "33  larrigaafdommaun.\n",
       "34          emoniyah.\n",
       "35               aan.\n",
       "36            harian.\n",
       "37           tamaruf.\n",
       "38             zaher.\n",
       "39            javeen.\n",
       "40            tayder.\n",
       "41           esaniph.\n",
       "42               ter.\n",
       "43            amaema.\n",
       "44              eesa.\n",
       "45         artiariel.\n",
       "46         kaserizia.\n",
       "47              have.\n",
       "48               kah.\n",
       "49             junia."
      ]
     },
     "execution_count": 68,
     "metadata": {},
     "output_type": "execute_result"
    }
   ],
   "source": [
    "df.head(50)"
   ]
  }
 ],
 "metadata": {
  "kernelspec": {
   "display_name": "Python 3",
   "language": "python",
   "name": "python3"
  },
  "language_info": {
   "codemirror_mode": {
    "name": "ipython",
    "version": 3
   },
   "file_extension": ".py",
   "mimetype": "text/x-python",
   "name": "python",
   "nbconvert_exporter": "python",
   "pygments_lexer": "ipython3",
   "version": "3.11.5"
  }
 },
 "nbformat": 4,
 "nbformat_minor": 2
}
