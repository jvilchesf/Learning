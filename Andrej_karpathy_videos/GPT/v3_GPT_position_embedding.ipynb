{
 "cells": [
  {
   "cell_type": "code",
   "execution_count": 2,
   "metadata": {},
   "outputs": [],
   "source": [
    "import torch\n",
    "import torch.nn as nn\n",
    "from torch.nn import functional as F"
   ]
  },
  {
   "cell_type": "code",
   "execution_count": 3,
   "metadata": {},
   "outputs": [
    {
     "name": "stdout",
     "output_type": "stream",
     "text": [
      "--2024-10-04 08:59:17--  https://raw.githubusercontent.com/karpathy/char-rnn/master/data/tinyshakespeare/input.txt\n",
      "Resolving raw.githubusercontent.com (raw.githubusercontent.com)... 185.199.108.133, 185.199.109.133, 185.199.110.133, ...\n",
      "Connecting to raw.githubusercontent.com (raw.githubusercontent.com)|185.199.108.133|:443... connected.\n",
      "HTTP request sent, awaiting response... 200 OK\n",
      "Length: 1115394 (1.1M) [text/plain]\n",
      "Saving to: ‘/Users/josemiguelvilchesfierro/input.txt’\n",
      "\n",
      "/Users/josemiguelvi 100%[===================>]   1.06M  --.-KB/s    in 0.1s    \n",
      "\n",
      "2024-10-04 08:59:17 (10.6 MB/s) - ‘/Users/josemiguelvilchesfierro/input.txt’ saved [1115394/1115394]\n",
      "\n"
     ]
    }
   ],
   "source": [
    "!wget https://raw.githubusercontent.com/karpathy/char-rnn/master/data/tinyshakespeare/input.txt -O ~/input.txt"
   ]
  },
  {
   "cell_type": "code",
   "execution_count": 4,
   "metadata": {},
   "outputs": [],
   "source": [
    "# read it in to inspect it\n",
    "with open('/Users/josemiguelvilchesfierro/input.txt', 'r', encoding='utf-8') as f:\n",
    "    text = f.read()"
   ]
  },
  {
   "cell_type": "code",
   "execution_count": 5,
   "metadata": {},
   "outputs": [],
   "source": [
    "#Hyperparameters\n",
    "batch_size = 32 # number of sequences in a mini-batch\n",
    "block_size = 8  # number of characters in a sequence\n",
    "max_iter = 3000 # number of training iterations\n",
    "eval_interval = 300\n",
    "learning_rate = 1e-2\n",
    "eval_iters = 200\n",
    "n_emb = 32"
   ]
  },
  {
   "cell_type": "code",
   "execution_count": 6,
   "metadata": {},
   "outputs": [],
   "source": [
    "list_ch = sorted(list(set(text)))\n",
    "vocab_size = len(list_ch)\n",
    "stoi = {ch:i for i,ch in enumerate(list_ch)}\n",
    "itos = {i:ch for i,ch in enumerate(list_ch)}\n",
    "encode = lambda s: [stoi[c] for c in s] # encoder: take a string, output a list of integers\n",
    "decode = lambda h: ''.join([itos[i] for i in h])"
   ]
  },
  {
   "cell_type": "code",
   "execution_count": 7,
   "metadata": {},
   "outputs": [],
   "source": [
    "#Encode dataset\n",
    "text_encode = torch.tensor(encode(text), dtype=torch.long)\n",
    "#Create a dataset\n",
    "n = int(len(text_encode) * 0.9)\n",
    "train = text_encode[:n]\n",
    "valid = text_encode[n:]"
   ]
  },
  {
   "cell_type": "code",
   "execution_count": 71,
   "metadata": {},
   "outputs": [],
   "source": [
    "torch.manual_seed(1337)\n",
    "def get_batch(split):\n",
    "    data = train if split == 'train' else valid\n",
    "    ix = torch.randint(len(data)- block_size, (batch_size,))\n",
    "    X = torch.stack([data[   i : i+block_size   ] for i in ix])\n",
    "    Y = torch.stack([data[i + 1: i+block_size +1] for i in ix])\n",
    "    return X, Y"
   ]
  },
  {
   "cell_type": "code",
   "execution_count": 72,
   "metadata": {},
   "outputs": [],
   "source": [
    "@torch.no_grad()\n",
    "def estimate_loss():\n",
    "    out = {}\n",
    "    model.eval()\n",
    "    for split in ['train', 'val']:\n",
    "        losses = torch.zeros(eval_iters)\n",
    "        for k in range(eval_iters):\n",
    "            X, Y = get_batch(split)\n",
    "            logits, loss = model(X, Y)\n",
    "            losses[k] = loss.item()\n",
    "        out[split] = losses.mean()\n",
    "    model.train()\n",
    "    return out"
   ]
  },
  {
   "cell_type": "code",
   "execution_count": 118,
   "metadata": {},
   "outputs": [],
   "source": [
    "class BigramLanguajeModel(nn.Module):\n",
    "\n",
    "    def __init__(self):\n",
    "        super().__init__()\n",
    "        self.table_embedding_token = nn.Embedding(vocab_size, n_emb)\n",
    "        self.table_embedding_position = nn.Embedding(block_size, n_emb)\n",
    "        self.lm_head = nn.Linear(n_emb, vocab_size) \n",
    "\n",
    "    def forward(self, idx, targets= None):\n",
    "        B, T = idx.shape  \n",
    "        #Embedding tokens and targets in a 3d tensor\n",
    "        emb = self.table_embedding_token(idx) # B T C [4x 8 x 32]\n",
    "        pos = self.table_embedding_position(torch.arange(T, device=idx.device))  # [T, n_emb]\n",
    "        X = emb + pos\n",
    "        #Linear layer\n",
    "        logits = self.lm_head(X) # B T C [4 x 8 x 65]\n",
    "\n",
    "        \n",
    "        if targets is None:\n",
    "            loss = None \n",
    "        else:\n",
    "            B , T, C = logits.shape\n",
    "            #Reshape the tensor to 2d for cross entropy\n",
    "            logits = logits.view(B*T , C) #[32 x 65]\n",
    "            targets = targets.view(B*T) #[32]\n",
    "            #Calculate loss\n",
    "            loss = F.cross_entropy(logits, targets)\n",
    "        \n",
    "        return logits, loss\n",
    "\n",
    "    def generate(self, idx, max_new_tokens):\n",
    "        for _ in range(max_new_tokens):\n",
    "            T = idx.shape[1]\n",
    "            #get the prediction\n",
    "            logits, _ = self(idx) # [B x T x C] because targets is None [4 x 8 x 65]\n",
    "            #get the last token\n",
    "            logits = logits[:, -1, :] # Becomes [B x C] [4 x 65]\n",
    "            #softmax\n",
    "            probs = F.softmax(logits, dim=1) \n",
    "            #sample\n",
    "            new_token = torch.multinomial(probs, 1)\n",
    "            #append to the sequence\n",
    "            idx = torch.cat([idx, new_token], dim=1) # B x T+1   \n",
    "\n",
    "        return idx"
   ]
  },
  {
   "cell_type": "code",
   "execution_count": 119,
   "metadata": {},
   "outputs": [],
   "source": [
    "model = BigramLanguajeModel()"
   ]
  },
  {
   "cell_type": "code",
   "execution_count": 120,
   "metadata": {},
   "outputs": [],
   "source": [
    "optimier = torch.optim.Adam(model.parameters(), lr=learning_rate)"
   ]
  },
  {
   "cell_type": "code",
   "execution_count": 121,
   "metadata": {},
   "outputs": [
    {
     "name": "stdout",
     "output_type": "stream",
     "text": [
      "step <built-in function iter>: train loss 4.5408, val loss 4.5383\n",
      "step <built-in function iter>: train loss 2.5510, val loss 2.5584\n",
      "step <built-in function iter>: train loss 2.5237, val loss 2.5354\n",
      "step <built-in function iter>: train loss 2.5041, val loss 2.5194\n",
      "step <built-in function iter>: train loss 2.4949, val loss 2.5309\n",
      "step <built-in function iter>: train loss 2.4965, val loss 2.5298\n",
      "step <built-in function iter>: train loss 2.4958, val loss 2.5232\n",
      "step <built-in function iter>: train loss 2.5041, val loss 2.5273\n",
      "step <built-in function iter>: train loss 2.4843, val loss 2.5244\n",
      "step <built-in function iter>: train loss 2.5003, val loss 2.5112\n",
      "step <built-in function iter>: train loss 2.4901, val loss 2.5186\n"
     ]
    }
   ],
   "source": [
    "for i in range(max_iter):\n",
    "\n",
    "    # every once in a while evaluate the loss on train and val sets\n",
    "    if (i % eval_interval == 0) or (i == max_iter - 1):\n",
    "        losses = estimate_loss()\n",
    "        print(f\"step {iter}: train loss {losses['train']:.4f}, val loss {losses['val']:.4f}\")\n",
    "\n",
    "    #forward step\n",
    "    xb, yb = get_batch('train')\n",
    "    logits, loss = model.forward(xb, yb)\n",
    "\n",
    "\n",
    "    # Print the loss every 1000 epochs\n",
    "    #if i % 1000 == 0:\n",
    "    #    print(f'Epoch [{i}/{max_iter}], Loss: {loss.item():.4f}')\n",
    "    \n",
    "    #backward step\n",
    "    optimier.zero_grad(set_to_none=True)\n",
    "    loss.backward()\n",
    "    optimier.step()\n"
   ]
  },
  {
   "cell_type": "code",
   "execution_count": 129,
   "metadata": {},
   "outputs": [
    {
     "name": "stdout",
     "output_type": "stream",
     "text": [
      "\n",
      "dSPr-Cwy\n"
     ]
    }
   ],
   "source": [
    "model = BigramLanguajeModel()\n",
    "idx = torch.zeros((1,1), dtype=torch.long)\n",
    "generate = model.generate(idx, 8)[0].tolist()\n",
    "print(decode(generate))"
   ]
  },
  {
   "cell_type": "code",
   "execution_count": 35,
   "metadata": {},
   "outputs": [
    {
     "data": {
      "text/plain": [
       "torch.Size([32, 8, 32])"
      ]
     },
     "execution_count": 35,
     "metadata": {},
     "output_type": "execute_result"
    }
   ],
   "source": [
    "X, Y = get_batch('train')\n",
    "token_embedding_table = nn.Embedding(vocab_size, n_emb)\n",
    "token_emb = token_embedding_table(X)"
   ]
  },
  {
   "cell_type": "code",
   "execution_count": 33,
   "metadata": {},
   "outputs": [],
   "source": [
    "T = X.shape[1]\n",
    "position_embedding_table = nn.Embedding(block_size, n_emb)\n",
    "pos_emb = position_embedding_table(torch.arange(T))"
   ]
  },
  {
   "cell_type": "code",
   "execution_count": 39,
   "metadata": {},
   "outputs": [
    {
     "data": {
      "text/plain": [
       "torch.Size([8, 32])"
      ]
     },
     "execution_count": 39,
     "metadata": {},
     "output_type": "execute_result"
    }
   ],
   "source": [
    "pos_emb.shape"
   ]
  },
  {
   "cell_type": "code",
   "execution_count": 37,
   "metadata": {},
   "outputs": [
    {
     "data": {
      "text/plain": [
       "torch.Size([32, 8, 32])"
      ]
     },
     "execution_count": 37,
     "metadata": {},
     "output_type": "execute_result"
    }
   ],
   "source": [
    "(token_emb + pos_emb).shape"
   ]
  }
 ],
 "metadata": {
  "kernelspec": {
   "display_name": "Python 3",
   "language": "python",
   "name": "python3"
  },
  "language_info": {
   "codemirror_mode": {
    "name": "ipython",
    "version": 3
   },
   "file_extension": ".py",
   "mimetype": "text/x-python",
   "name": "python",
   "nbconvert_exporter": "python",
   "pygments_lexer": "ipython3",
   "version": "3.11.5"
  }
 },
 "nbformat": 4,
 "nbformat_minor": 2
}
