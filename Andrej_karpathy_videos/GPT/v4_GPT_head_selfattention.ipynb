{
 "cells": [
  {
   "cell_type": "code",
   "execution_count": 64,
   "metadata": {},
   "outputs": [],
   "source": [
    "import torch\n",
    "import torch.nn as nn\n",
    "from torch.nn import functional as F"
   ]
  },
  {
   "cell_type": "code",
   "execution_count": 65,
   "metadata": {},
   "outputs": [
    {
     "name": "stdout",
     "output_type": "stream",
     "text": [
      "--2024-10-04 12:08:24--  https://raw.githubusercontent.com/karpathy/char-rnn/master/data/tinyshakespeare/input.txt\n"
     ]
    },
    {
     "name": "stdout",
     "output_type": "stream",
     "text": [
      "Resolving raw.githubusercontent.com (raw.githubusercontent.com)... 185.199.110.133, 185.199.109.133, 185.199.108.133, ...\n",
      "Connecting to raw.githubusercontent.com (raw.githubusercontent.com)|185.199.110.133|:443... connected.\n",
      "HTTP request sent, awaiting response... 200 OK\n",
      "Length: 1115394 (1.1M) [text/plain]\n",
      "Saving to: ‘/Users/josemiguelvilchesfierro/input.txt’\n",
      "\n",
      "/Users/josemiguelvi 100%[===================>]   1.06M  --.-KB/s    in 0.1s    \n",
      "\n",
      "2024-10-04 12:08:25 (10.8 MB/s) - ‘/Users/josemiguelvilchesfierro/input.txt’ saved [1115394/1115394]\n",
      "\n"
     ]
    }
   ],
   "source": [
    "!wget https://raw.githubusercontent.com/karpathy/char-rnn/master/data/tinyshakespeare/input.txt -O ~/input.txt"
   ]
  },
  {
   "cell_type": "code",
   "execution_count": 66,
   "metadata": {},
   "outputs": [],
   "source": [
    "# read it in to inspect it\n",
    "with open('/Users/josemiguelvilchesfierro/input.txt', 'r', encoding='utf-8') as f:\n",
    "    text = f.read()"
   ]
  },
  {
   "cell_type": "code",
   "execution_count": 132,
   "metadata": {},
   "outputs": [],
   "source": [
    "#Hyperparameters\n",
    "batch_size = 32 # number of sequences in a mini-batch\n",
    "block_size = 8  # number of characters in a sequence\n",
    "max_iter = 3000 # number of training iterations\n",
    "eval_interval = 300\n",
    "learning_rate = 1e-2\n",
    "eval_iters = 200\n",
    "n_emb = 32\n",
    "head_size = 16"
   ]
  },
  {
   "cell_type": "code",
   "execution_count": 68,
   "metadata": {},
   "outputs": [],
   "source": [
    "list_ch = sorted(list(set(text)))\n",
    "vocab_size = len(list_ch)\n",
    "stoi = {ch:i for i,ch in enumerate(list_ch)}\n",
    "itos = {i:ch for i,ch in enumerate(list_ch)}\n",
    "encode = lambda s: [stoi[c] for c in s] # encoder: take a string, output a list of integers\n",
    "decode = lambda h: ''.join([itos[i] for i in h])"
   ]
  },
  {
   "cell_type": "code",
   "execution_count": 69,
   "metadata": {},
   "outputs": [],
   "source": [
    "#Encode dataset\n",
    "text_encode = torch.tensor(encode(text), dtype=torch.long)\n",
    "#Create a dataset\n",
    "n = int(len(text_encode) * 0.9)\n",
    "train = text_encode[:n]\n",
    "valid = text_encode[n:]"
   ]
  },
  {
   "cell_type": "code",
   "execution_count": 70,
   "metadata": {},
   "outputs": [],
   "source": [
    "torch.manual_seed(1337)\n",
    "def get_batch(split):\n",
    "    data = train if split == 'train' else valid\n",
    "    ix = torch.randint(len(data)- block_size, (batch_size,))\n",
    "    X = torch.stack([data[   i : i+block_size   ] for i in ix])\n",
    "    Y = torch.stack([data[i + 1: i+block_size +1] for i in ix])\n",
    "    return X, Y"
   ]
  },
  {
   "cell_type": "code",
   "execution_count": 71,
   "metadata": {},
   "outputs": [],
   "source": [
    "@torch.no_grad()\n",
    "def estimate_loss():\n",
    "    out = {}\n",
    "    model.eval()\n",
    "    for split in ['train', 'val']:\n",
    "        losses = torch.zeros(eval_iters)\n",
    "        for k in range(eval_iters):\n",
    "            X, Y = get_batch(split)\n",
    "            logits, loss = model(X, Y)\n",
    "            losses[k] = loss.item()\n",
    "        out[split] = losses.mean()\n",
    "    model.train()\n",
    "    return out"
   ]
  },
  {
   "cell_type": "code",
   "execution_count": 137,
   "metadata": {},
   "outputs": [],
   "source": [
    "class Head(nn.Module):\n",
    "    #One head of the transformer\n",
    "\n",
    "    def __init__(self, head_size):\n",
    "        super().__init__()\n",
    "        self.query = nn.Linear(n_emb, head_size, bias=False)\n",
    "        self.key = nn.Linear(n_emb, head_size, bias=False)\n",
    "        self.value = nn.Linear(n_emb, head_size, bias=False)\n",
    "        self.register_buffer('tril', torch.tril(torch.ones(block_size, block_size)))\n",
    "    \n",
    "    def forward(self, x):\n",
    "        B,T,C = x.shape\n",
    "        k = self.key(x)   # (B,T,C)\n",
    "        q = self.query(x) # (B,T,C)\n",
    "        # compute attention scores (\"affinities\")\n",
    "        wei = q @ k.transpose(-2,-1) * C**-0.5 # (B, T, C) @ (B, C, T) -> (B, T, T)\n",
    "        wei = wei.masked_fill(self.tril[:T, :T] == 0, float('-inf')) # (B, T, T)\n",
    "        wei = F.softmax(wei, dim=-1) # (B, T, T)\n",
    "        # perform the weighted aggregation of the values\n",
    "        v = self.value(x) # (B,T,C)\n",
    "        out = wei @ v # (B, T, T) @ (B, T, C) -> (B, T, C)\n",
    "        return out\n",
    "    \n",
    "#---------------------------------------------------------------------------\n",
    "   \n",
    "class multihead(nn.Module):\n",
    "    #Multihead transformer\n",
    "\n",
    "    def __init__(self, head_size, n_heads):\n",
    "        super().__init__()\n",
    "        self.heads = nn.ModuleList([Head(head_size) for _ in range(n_heads)])\n",
    "    \n",
    "    def forward(self, x):\n",
    "        h = torch.cat([h(x) for h in self.heads], dim=-1)\n",
    "        return self.ln(x + h)\n",
    "#---------------------------------------------------------------------------\n",
    "\n",
    "class feedforward(nn.Module):\n",
    "    #Feedforward layer\n",
    "\n",
    "    def __init__(self, n_emb):\n",
    "        super().__init__()\n",
    "        self.net = nn.Sequential(\n",
    "            nn.Linear(n_emb, 4*n_emb),\n",
    "            nn.ReLU(),\n",
    "            nn.Linear(4*n_emb, n_emb)\n",
    "        )\n",
    "\n",
    "    def forward(self, x):\n",
    "        return self.net(x)\n",
    "#---------------------------------------------------------------------------\n",
    "\n",
    "class block(nn.Module):\n",
    "    #Transformer block\n",
    "    def __init__(self, n_emb, n_heads):\n",
    "        super().__init__()\n",
    "        head_size = n_emb // n_heads\n",
    "        self.mha = multihead(head_size, n_heads)\n",
    "        self.ff = feedforward(n_emb)\n",
    "\n",
    "    def forward(self, x):\n",
    "        x = x + self.mha(x)\n",
    "        x = x + self.ff(x)\n",
    "        return x\n",
    "\n",
    "#---------------------------------------------------------------------------\n",
    "\n",
    "class BigramLanguajeModel(nn.Module):\n",
    "\n",
    "    def __init__(self):\n",
    "        super().__init__()\n",
    "        self.table_embedding_token = nn.Embedding(vocab_size, n_emb)\n",
    "        self.table_embedding_position = nn.Embedding(block_size, n_emb)\n",
    "        self.head = block(head_size, 4)\n",
    "        self.lm_head = nn.Linear(n_emb, vocab_size) \n",
    "\n",
    "    def forward(self, idx, targets= None):\n",
    "        B, T = idx.shape  \n",
    "        #Embedding tokens and targets in a 3d tensor\n",
    "        emb = self.table_embedding_token(idx) # B T C [4x 8 x 32]\n",
    "        pos = self.table_embedding_position(torch.arange(T, device=idx.device))  # [T, n_emb]\n",
    "        X = emb + pos\n",
    "        #Linear layer\n",
    "        X = self.head(X)\n",
    "        logits = self.lm_head(X) # B T C [4 x 8 x 65]\n",
    "\n",
    "        \n",
    "        if targets is None:\n",
    "            loss = None \n",
    "        else:\n",
    "            B , T, C = logits.shape\n",
    "            #Reshape the tensor to 2d for cross entropy\n",
    "            logits = logits.view(B*T , C) #[32 x 65]\n",
    "            targets = targets.view(B*T) #[32]\n",
    "            #Calculate loss\n",
    "            loss = F.cross_entropy(logits, targets)\n",
    "        \n",
    "        return logits, loss\n",
    "\n",
    "    def generate(self, idx, max_new_tokens):\n",
    "        for _ in range(max_new_tokens):\n",
    "            idx_cond = idx[:, -block_size:] # B x T\n",
    "            #get the prediction\n",
    "            logits, _ = self(idx_cond) # [B x T x C] because targets is None [4 x 8 x 65]\n",
    "            #get the last token\n",
    "            logits = logits[:, -1, :] # Becomes [B x C] [4 x 65]\n",
    "            #softmax\n",
    "            probs = F.softmax(logits, dim=1) \n",
    "            #sample\n",
    "            new_token = torch.multinomial(probs, 1)\n",
    "            #append to the sequence\n",
    "            idx = torch.cat([idx, new_token], dim=1) # B x T+1   \n",
    "\n",
    "        return idx"
   ]
  },
  {
   "cell_type": "code",
   "execution_count": 138,
   "metadata": {},
   "outputs": [],
   "source": [
    "model = BigramLanguajeModel()"
   ]
  },
  {
   "cell_type": "code",
   "execution_count": 114,
   "metadata": {},
   "outputs": [],
   "source": [
    "optimier = torch.optim.Adam(model.parameters(), lr=learning_rate)"
   ]
  },
  {
   "cell_type": "code",
   "execution_count": 139,
   "metadata": {},
   "outputs": [
    {
     "name": "stdout",
     "output_type": "stream",
     "text": [
      "step <built-in function iter>: train loss 4.1795, val loss 4.1806\n",
      "step <built-in function iter>: train loss 4.1784, val loss 4.1765\n",
      "step <built-in function iter>: train loss 4.1772, val loss 4.1782\n",
      "step <built-in function iter>: train loss 4.1791, val loss 4.1762\n",
      "step <built-in function iter>: train loss 4.1774, val loss 4.1785\n",
      "step <built-in function iter>: train loss 4.1792, val loss 4.1772\n",
      "step <built-in function iter>: train loss 4.1788, val loss 4.1795\n",
      "step <built-in function iter>: train loss 4.1773, val loss 4.1799\n",
      "step <built-in function iter>: train loss 4.1777, val loss 4.1775\n",
      "step <built-in function iter>: train loss 4.1772, val loss 4.1815\n",
      "step <built-in function iter>: train loss 4.1765, val loss 4.1788\n"
     ]
    }
   ],
   "source": [
    "for i in range(max_iter):\n",
    "\n",
    "    # every once in a while evaluate the loss on train and val sets\n",
    "    if (i % eval_interval == 0) or (i == max_iter - 1):\n",
    "        losses = estimate_loss()\n",
    "        print(f\"step {iter}: train loss {losses['train']:.4f}, val loss {losses['val']:.4f}\")\n",
    "\n",
    "    #forward step\n",
    "    xb, yb = get_batch('train')\n",
    "    logits, loss = model.forward(xb, yb)\n",
    "\n",
    "\n",
    "    # Print the loss every 1000 epochs\n",
    "    #if i % 1000 == 0:\n",
    "    #    print(f'Epoch [{i}/{max_iter}], Loss: {loss.item():.4f}')\n",
    "    \n",
    "    #backward step\n",
    "    optimier.zero_grad(set_to_none=True)\n",
    "    loss.backward()\n",
    "    optimier.step()\n"
   ]
  },
  {
   "cell_type": "code",
   "execution_count": 140,
   "metadata": {},
   "outputs": [
    {
     "name": "stdout",
     "output_type": "stream",
     "text": [
      "\n",
      "\n",
      "L'&-mxPDK3naM3Pyu,E,hCMRvdGTz;-BHn3&jP\n",
      "IVqv\n",
      "fvM:'xwxae'WSsi\n",
      "AOOKHfy\n",
      ".P!MA;jzqbFZIMIykQqkL.aWhcgX'Su$eOPNUNe:vH-VNhxqxGkCg;pE-'b!!,mRvb&GD&'-e\n",
      "&.lpaOGXNmena-qEvHl FGYkXiuRCxsZJzcr-HKEsLG&DF&apnQ;G-,kGzdg'dHnGDRbllh.T!o;ZRo,YcpLu,QfYxB.XoA&PlbovnhRHDxb,vV-rAs,kkTWylOo,Zo?DI\n",
      "xLMSqwuB;JearSCKRQBhGRajdLNBttM&y\n",
      "jpAtuLW?,aBhCK.i!kfB$nKkLrG-MK3ZX'GBoyzjlQ\n",
      "\n",
      "!AA-mBulex'dRQsQPx!Jp-blLqs?wTAVZPsLqCiZPJoMozUG\n"
     ]
    }
   ],
   "source": [
    "model = BigramLanguajeModel()\n",
    "idx = torch.zeros((1,1), dtype=torch.long)\n",
    "generate = model.generate(idx, 400)[0].tolist()\n",
    "print(decode(generate))"
   ]
  },
  {
   "cell_type": "code",
   "execution_count": null,
   "metadata": {},
   "outputs": [],
   "source": [
    "#X, Y = get_batch('train')\n",
    "#crete a tensor with 0s\n",
    "torch.manual_seed(1337)\n",
    "B, T, C = 4, 8, 32\n",
    "X = torch.randn(B, T, C)\n",
    "\n",
    "#I have to create query and key tensors\n",
    "head_size = 16\n",
    "query = torch.nn.Linear(C, head_size, bias= False)\n",
    "key = torch.nn.Linear(C, head_size, bias= False)\n",
    "value= torch.nn.Linear(C, head_size, bias= False)\n",
    "k = key(X)\n",
    "q = query(X)\n",
    "#Calculate the attention\n",
    "wei = q @ k.transpose(-2, -1) \n",
    "\n",
    "\n",
    "tril = torch.tril(torch.ones(T, T))\n",
    "#wei = torch.zeros((T,T))\n",
    "wei = torch.masked_fill(wei, tril == 0, float('-inf'))\n",
    "wei = F.softmax(wei, dim=1)\n",
    "v = value(X)\n",
    "out = wei @ v\n",
    "\n",
    "#out = wei @ X"
   ]
  },
  {
   "cell_type": "code",
   "execution_count": null,
   "metadata": {},
   "outputs": [
    {
     "data": {
      "text/plain": [
       "torch.Size([4, 8, 16])"
      ]
     },
     "execution_count": 54,
     "metadata": {},
     "output_type": "execute_result"
    }
   ],
   "source": [
    "out.shape"
   ]
  },
  {
   "cell_type": "code",
   "execution_count": null,
   "metadata": {},
   "outputs": [
    {
     "data": {
      "text/plain": [
       "tensor([[0.0078, 0.0000, 0.0000, 0.0000, 0.0000, 0.0000, 0.0000, 0.0000],\n",
       "        [0.0124, 0.0053, 0.0000, 0.0000, 0.0000, 0.0000, 0.0000, 0.0000],\n",
       "        [0.0803, 0.0310, 0.2812, 0.0000, 0.0000, 0.0000, 0.0000, 0.0000],\n",
       "        [0.3961, 0.8178, 0.1780, 0.2202, 0.0000, 0.0000, 0.0000, 0.0000],\n",
       "        [0.0157, 0.0031, 0.0974, 0.2941, 0.5470, 0.0000, 0.0000, 0.0000],\n",
       "        [0.3248, 0.0790, 0.0623, 0.1598, 0.1693, 0.0106, 0.0000, 0.0000],\n",
       "        [0.1338, 0.0264, 0.2808, 0.1414, 0.1035, 0.5438, 0.2053, 0.0000],\n",
       "        [0.0290, 0.0374, 0.1003, 0.1846, 0.1802, 0.4456, 0.7947, 1.0000]],\n",
       "       grad_fn=<SelectBackward0>)"
      ]
     },
     "execution_count": 55,
     "metadata": {},
     "output_type": "execute_result"
    }
   ],
   "source": [
    "wei[0]"
   ]
  },
  {
   "cell_type": "code",
   "execution_count": null,
   "metadata": {},
   "outputs": [],
   "source": [
    "T = X.shape[1]\n",
    "position_embedding_table = nn.Embedding(block_size, n_emb)\n",
    "pos_emb = position_embedding_table(torch.arange(T))"
   ]
  },
  {
   "cell_type": "code",
   "execution_count": null,
   "metadata": {},
   "outputs": [
    {
     "data": {
      "text/plain": [
       "torch.Size([8, 32])"
      ]
     },
     "execution_count": 39,
     "metadata": {},
     "output_type": "execute_result"
    }
   ],
   "source": [
    "pos_emb.shape"
   ]
  },
  {
   "cell_type": "code",
   "execution_count": null,
   "metadata": {},
   "outputs": [
    {
     "data": {
      "text/plain": [
       "torch.Size([32, 8, 32])"
      ]
     },
     "execution_count": 37,
     "metadata": {},
     "output_type": "execute_result"
    }
   ],
   "source": [
    "(token_emb + pos_emb).shape"
   ]
  }
 ],
 "metadata": {
  "kernelspec": {
   "display_name": "Python 3",
   "language": "python",
   "name": "python3"
  },
  "language_info": {
   "codemirror_mode": {
    "name": "ipython",
    "version": 3
   },
   "file_extension": ".py",
   "mimetype": "text/x-python",
   "name": "python",
   "nbconvert_exporter": "python",
   "pygments_lexer": "ipython3",
   "version": "3.11.5"
  }
 },
 "nbformat": 4,
 "nbformat_minor": 2
}
