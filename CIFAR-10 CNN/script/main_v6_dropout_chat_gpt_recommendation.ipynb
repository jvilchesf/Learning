{
 "cells": [
  {
   "cell_type": "code",
   "execution_count": 33,
   "metadata": {},
   "outputs": [],
   "source": [
    "import numpy as np\n",
    "import torch\n",
    "import matplotlib.pyplot as plt\n",
    "import torch.nn.functional as F"
   ]
  },
  {
   "cell_type": "code",
   "execution_count": 34,
   "metadata": {},
   "outputs": [
    {
     "name": "stdout",
     "output_type": "stream",
     "text": [
      "torch.Size([50000, 3, 32, 32]) torch.Size([50000])\n"
     ]
    }
   ],
   "source": [
    "#Create X and Y arrays\n",
    "def unpickle(file):\n",
    "    import pickle\n",
    "    with open(file, 'rb') as fo:\n",
    "        dict = pickle.load(fo, encoding='bytes')\n",
    "    return dict\n",
    "\n",
    "# Initialize the final arrays correctly\n",
    "X_final_array = np.empty((0, 3072))  # CIFAR-10 has 3072 features (32x32x3)\n",
    "Y_final_array = np.empty((0,))  # Correct initialization for Y\n",
    "\n",
    "for i in range(1, 6):\n",
    "    # The path to the data\n",
    "    url = '/Users/josemiguelvilchesfierro/Downloads/cifar-10-batches-py/data_batch_'+str(i)\n",
    "\n",
    "    # Load the data\n",
    "    unpickle_data = unpickle(url)\n",
    "    \n",
    "    # This is the 'data' which is in uint8 format\n",
    "    X_temp = unpickle_data[b'data']\n",
    "    Y_temp = np.array(unpickle_data[b'labels'])  # Convert Y_temp to a NumPy array\n",
    "    \n",
    "    # Concatenate temp_array to final_array along axis 0\n",
    "    X_final_array = np.concatenate((X_final_array, X_temp), axis=0)\n",
    "    Y_final_array = np.concatenate((Y_final_array, Y_temp), axis=0)\n",
    "\n",
    "# Convert to tensors\n",
    "X = torch.tensor(X_final_array)\n",
    "X = X.view(-1, 3, 32, 32)  # Reshape to (batch_size, channels, height, width)\n",
    "Y = torch.tensor(Y_final_array)\n",
    "\n",
    "print(X.shape, Y.shape)"
   ]
  },
  {
   "cell_type": "code",
   "execution_count": 35,
   "metadata": {},
   "outputs": [
    {
     "name": "stdout",
     "output_type": "stream",
     "text": [
      "torch.Size([40000, 3, 32, 32]) torch.Size([40000])\n",
      "torch.Size([5000, 3, 32, 32]) torch.Size([5000])\n",
      "torch.Size([5000, 3, 32, 32]) torch.Size([5000])\n"
     ]
    }
   ],
   "source": [
    "#Create tain, dev and test data\n",
    "\n",
    "#Define the splits\n",
    "first_split = int(0.8 * len(X))\n",
    "second_split = int(0.9 * len(X))\n",
    "\n",
    "# Split the data into training, validation, and test sets\n",
    "Xtr, Ytr = X[:first_split], Y[:first_split]\n",
    "Xdev, Ydev = X[first_split:second_split], Y[first_split:second_split]\n",
    "Xte, Yte = X[second_split:], Y[second_split:]\n",
    "\n",
    "print (Xtr.shape, Ytr.shape)    \n",
    "print (Xdev.shape, Ydev.shape)\n",
    "print (Xte.shape, Yte.shape)"
   ]
  },
  {
   "cell_type": "code",
   "execution_count": 36,
   "metadata": {},
   "outputs": [
    {
     "name": "stderr",
     "output_type": "stream",
     "text": [
      "Clipping input data to the valid range for imshow with RGB data ([0..1] for floats or [0..255] for integers). Got range [0.0..255.0].\n",
      "Clipping input data to the valid range for imshow with RGB data ([0..1] for floats or [0..255] for integers). Got range [5.0..254.0].\n",
      "Clipping input data to the valid range for imshow with RGB data ([0..1] for floats or [0..255] for integers). Got range [20.0..255.0].\n",
      "Clipping input data to the valid range for imshow with RGB data ([0..1] for floats or [0..255] for integers). Got range [4.0..234.0].\n",
      "Clipping input data to the valid range for imshow with RGB data ([0..1] for floats or [0..255] for integers). Got range [0.0..254.0].\n"
     ]
    },
    {
     "data": {
      "image/png": "[encoded data removed]",
      "text/plain": [
       "<Figure size 1000x500 with 5 Axes>"
      ]
     },
     "metadata": {},
     "output_type": "display_data"
    }
   ],
   "source": [
    "#Showing pictures\n",
    "\n",
    "# Create a figure with subplots to display multiple images\n",
    "plt.figure(figsize=(10, 5))  # Adjust the size as needed\n",
    "\n",
    "# Loop to display 10 images\n",
    "for i in range(5):\n",
    "    plt.subplot(2, 5, i + 1)  # Create a 2x5 grid of subplots\n",
    "    img = X[i].reshape(3, 32, 32).permute(1, 2, 0)  # Reshape and permute the image tensor\n",
    "    plt.imshow(img.detach().numpy())  # Convert to NumPy and display\n",
    "\n",
    "plt.tight_layout()  # Adjust layout to prevent overlap\n",
    "plt.show()  # Show all images"
   ]
  },
  {
   "cell_type": "code",
   "execution_count": 59,
   "metadata": {},
   "outputs": [],
   "source": [
    "import torch\n",
    "import torch.nn.functional as F\n",
    "\n",
    "class linear:\n",
    "    def __init__(self, input_size, output_size):\n",
    "        self.weights = torch.randn(input_size, output_size, dtype=torch.float32) * 0.3\n",
    "        self.biases = torch.zeros(output_size, dtype=torch.float32) * 0.3\n",
    "\n",
    "    def forward(self, input):\n",
    "        self.input = input.float()\n",
    "        self.output = torch.mm(self.input, self.weights) + self.biases\n",
    "        return self.output\n",
    "\n",
    "    def __call__(self, X):\n",
    "        return self.forward(X)\n",
    "    \n",
    "    def parameters(self):\n",
    "        return [self.weights] if self.biases is None else [self.weights, self.biases]\n",
    "\n",
    "#----------------------------------------------------------------------\n",
    "class convolutional:\n",
    "    def __init__(self, input_depth, n_kernels, kernel_size):\n",
    "        self.input_depth = input_depth\n",
    "        self.kernel_size = kernel_size\n",
    "        self.n_kernels = n_kernels\n",
    "        self.kernels = torch.randn(n_kernels, input_depth, kernel_size, kernel_size, dtype=torch.float32) * 0.1 \n",
    "        self.biases = torch.zeros(n_kernels, dtype=torch.float32) * 0.3\n",
    "\n",
    "    def forward(self, input):\n",
    "        self.input = input.float()\n",
    "        print(f\"forward pass input shape = {input.shape}\")  \n",
    "        self.output = F.conv2d(self.input, self.kernels, self.biases)\n",
    "        print(f\"forward pass output shape = {input.shape}\")\n",
    "        return self.output\n",
    "    \n",
    "    def __call__(self,X):\n",
    "        return self.forward(X)\n",
    "    \n",
    "    def parameters(self):\n",
    "        return [self.kernels, self.biases]\n",
    "#----------------------------------------------------------------------\n",
    "class sequential:\n",
    "    def __init__(self, layers):\n",
    "        self.layers = layers      \n",
    "\n",
    "    def __call__(self, x):\n",
    "        for layer in self.layers:\n",
    "            x = layer(x)\n",
    "        return x\n",
    "\n",
    "    def train(self):\n",
    "        self.is_training = True  # Set mode to training\n",
    "        for layer in self.layers:\n",
    "            if hasattr(layer, 'train'):\n",
    "                layer.train()\n",
    "\n",
    "    def eval(self):\n",
    "        self.is_training = False  # Set mode to evaluation\n",
    "        for layer in self.layers:\n",
    "            if hasattr(layer, 'eval'):\n",
    "                layer.eval()\n",
    "    \n",
    "    def parameters(self):\n",
    "        # get parameters of all layers and stretch them out into one list\n",
    "        self.out = [p for layer in self.layers for p in layer.parameters()]\n",
    "        return self.out\n",
    "\n",
    "#----------------------------------------------------------------------\n",
    "class ReLU:\n",
    "    def __call__(self, x):\n",
    "        return torch.relu(x)\n",
    "    \n",
    "    def parameters(self):\n",
    "        return []\n",
    "#----------------------------------------------------------------------\n",
    "\n",
    "class reshape():\n",
    "    def __init__(self, output_shape):\n",
    "        self.output_shape = output_shape\n",
    "\n",
    "    def __call__(self, X):\n",
    "        return self.forward(X)\n",
    "\n",
    "    def forward(self, input):\n",
    "        print(f\"Reshape Input shape : {input.shape}\")\n",
    "        batch_size = input.shape[0]\n",
    "        self.output = input.view(batch_size, -1)  # Flatten the input dynamically\n",
    "        print(f\"Reshape Output shape : {self.output.shape}\")\n",
    "        return self.output\n",
    "    \n",
    "    def parameters(self):\n",
    "        return []\n",
    "    \n",
    "#----------------------------------------------------------------------\n",
    "  \n",
    "class Dropout:\n",
    "    def __init__(self, p=0.5):\n",
    "        self.p = p  # Probability of dropping neurons\n",
    "\n",
    "    def __call__(self, x):\n",
    "        return F.dropout(x, self.p, training=True)\n",
    "    \n",
    "    def parameters(self):\n",
    "        return []\n",
    "    \n",
    "    def train(self):\n",
    "        self.is_training = True\n",
    "\n",
    "    def eval(self):\n",
    "        self.is_training = False\n",
    "\n",
    "#----------------------------------------------------------------------\n",
    "\n",
    "class maxpool:\n",
    "    def __init__(self, kernel_size):\n",
    "        self.kernel_size = kernel_size\n",
    "\n",
    "    def __call__(self, x):\n",
    "        return self.forward(x)\n",
    "\n",
    "    def forward(self, input):\n",
    "        self.input = input\n",
    "        self.output = F.max_pool2d(self.input, self.kernel_size)\n",
    "        return self.output\n",
    "    \n",
    "    def parameters(self):\n",
    "        return []"
   ]
  },
  {
   "cell_type": "code",
   "execution_count": 60,
   "metadata": {},
   "outputs": [
    {
     "name": "stdout",
     "output_type": "stream",
     "text": [
      "113581\n"
     ]
    }
   ],
   "source": [
    "# Define your kernel size and number of kernels\n",
    "kernel_size = 3\n",
    "n_kernels = 32\n",
    "input_depth = X.shape[1]\n",
    "\n",
    "# Build the model\n",
    "model = sequential([\n",
    "    convolutional(input_depth, n_kernels, kernel_size), ReLU(),\n",
    "    convolutional(n_kernels, n_kernels, kernel_size), ReLU(),\n",
    "    maxpool(2),\n",
    "    convolutional(n_kernels, kernel_size, n_kernels), ReLU(),\n",
    "    reshape([n_kernels * 6 * 6]),\n",
    "    linear(n_kernels * 4 * 4, 10),\n",
    "])\n",
    "\n",
    "#Set parameters to train\n",
    "parameters = model.parameters()\n",
    "print(sum(p.nelement() for p in parameters)) # number of parameters in total\n",
    "for p in parameters:\n",
    "  p.requires_grad = True"
   ]
  },
  {
   "cell_type": "code",
   "execution_count": 61,
   "metadata": {},
   "outputs": [
    {
     "name": "stdout",
     "output_type": "stream",
     "text": [
      "forward pass input shape = torch.Size([32, 3, 32, 32])\n",
      "forward pass output shape = torch.Size([32, 3, 32, 32])\n",
      "forward pass input shape = torch.Size([32, 32, 30, 30])\n",
      "forward pass output shape = torch.Size([32, 32, 30, 30])\n",
      "forward pass input shape = torch.Size([32, 32, 14, 14])\n"
     ]
    },
    {
     "ename": "RuntimeError",
     "evalue": "Calculated padded input size per channel: (14 x 14). Kernel size: (32 x 32). Kernel size can't be greater than actual input size",
     "output_type": "error",
     "traceback": [
      "\u001b[0;31m---------------------------------------------------------------------------\u001b[0m",
      "\u001b[0;31mRuntimeError\u001b[0m                              Traceback (most recent call last)",
      "Cell \u001b[0;32mIn[61], line 16\u001b[0m\n\u001b[1;32m     14\u001b[0m Xb, Yb \u001b[38;5;241m=\u001b[39m Xtr[ix], Ytr[ix] \u001b[38;5;66;03m# batch X,Y\u001b[39;00m\n\u001b[1;32m     15\u001b[0m \u001b[38;5;66;03m# Forward pass\u001b[39;00m\n\u001b[0;32m---> 16\u001b[0m logits \u001b[38;5;241m=\u001b[39m \u001b[43mmodel\u001b[49m\u001b[43m(\u001b[49m\u001b[43mXb\u001b[49m\u001b[43m)\u001b[49m\n\u001b[1;32m     17\u001b[0m loss \u001b[38;5;241m=\u001b[39m F\u001b[38;5;241m.\u001b[39mcross_entropy(logits, Yb\u001b[38;5;241m.\u001b[39mlong())  \u001b[38;5;66;03m# Convert target labels to Long data type\u001b[39;00m\n\u001b[1;32m     19\u001b[0m \u001b[38;5;66;03m# Zero gradients, backpropagate, and update weights\u001b[39;00m\n",
      "Cell \u001b[0;32mIn[59], line 48\u001b[0m, in \u001b[0;36msequential.__call__\u001b[0;34m(self, x)\u001b[0m\n\u001b[1;32m     46\u001b[0m \u001b[38;5;28;01mdef\u001b[39;00m \u001b[38;5;21m__call__\u001b[39m(\u001b[38;5;28mself\u001b[39m, x):\n\u001b[1;32m     47\u001b[0m     \u001b[38;5;28;01mfor\u001b[39;00m layer \u001b[38;5;129;01min\u001b[39;00m \u001b[38;5;28mself\u001b[39m\u001b[38;5;241m.\u001b[39mlayers:\n\u001b[0;32m---> 48\u001b[0m         x \u001b[38;5;241m=\u001b[39m \u001b[43mlayer\u001b[49m\u001b[43m(\u001b[49m\u001b[43mx\u001b[49m\u001b[43m)\u001b[49m\n\u001b[1;32m     49\u001b[0m     \u001b[38;5;28;01mreturn\u001b[39;00m x\n",
      "Cell \u001b[0;32mIn[59], line 37\u001b[0m, in \u001b[0;36mconvolutional.__call__\u001b[0;34m(self, X)\u001b[0m\n\u001b[1;32m     36\u001b[0m \u001b[38;5;28;01mdef\u001b[39;00m \u001b[38;5;21m__call__\u001b[39m(\u001b[38;5;28mself\u001b[39m,X):\n\u001b[0;32m---> 37\u001b[0m     \u001b[38;5;28;01mreturn\u001b[39;00m \u001b[38;5;28;43mself\u001b[39;49m\u001b[38;5;241;43m.\u001b[39;49m\u001b[43mforward\u001b[49m\u001b[43m(\u001b[49m\u001b[43mX\u001b[49m\u001b[43m)\u001b[49m\n",
      "Cell \u001b[0;32mIn[59], line 32\u001b[0m, in \u001b[0;36mconvolutional.forward\u001b[0;34m(self, input)\u001b[0m\n\u001b[1;32m     30\u001b[0m \u001b[38;5;28mself\u001b[39m\u001b[38;5;241m.\u001b[39minput \u001b[38;5;241m=\u001b[39m \u001b[38;5;28minput\u001b[39m\u001b[38;5;241m.\u001b[39mfloat()\n\u001b[1;32m     31\u001b[0m \u001b[38;5;28mprint\u001b[39m(\u001b[38;5;124mf\u001b[39m\u001b[38;5;124m\"\u001b[39m\u001b[38;5;124mforward pass input shape = \u001b[39m\u001b[38;5;132;01m{\u001b[39;00m\u001b[38;5;28minput\u001b[39m\u001b[38;5;241m.\u001b[39mshape\u001b[38;5;132;01m}\u001b[39;00m\u001b[38;5;124m\"\u001b[39m)  \n\u001b[0;32m---> 32\u001b[0m \u001b[38;5;28mself\u001b[39m\u001b[38;5;241m.\u001b[39moutput \u001b[38;5;241m=\u001b[39m \u001b[43mF\u001b[49m\u001b[38;5;241;43m.\u001b[39;49m\u001b[43mconv2d\u001b[49m\u001b[43m(\u001b[49m\u001b[38;5;28;43mself\u001b[39;49m\u001b[38;5;241;43m.\u001b[39;49m\u001b[43minput\u001b[49m\u001b[43m,\u001b[49m\u001b[43m \u001b[49m\u001b[38;5;28;43mself\u001b[39;49m\u001b[38;5;241;43m.\u001b[39;49m\u001b[43mkernels\u001b[49m\u001b[43m,\u001b[49m\u001b[43m \u001b[49m\u001b[38;5;28;43mself\u001b[39;49m\u001b[38;5;241;43m.\u001b[39;49m\u001b[43mbiases\u001b[49m\u001b[43m)\u001b[49m\n\u001b[1;32m     33\u001b[0m \u001b[38;5;28mprint\u001b[39m(\u001b[38;5;124mf\u001b[39m\u001b[38;5;124m\"\u001b[39m\u001b[38;5;124mforward pass output shape = \u001b[39m\u001b[38;5;132;01m{\u001b[39;00m\u001b[38;5;28minput\u001b[39m\u001b[38;5;241m.\u001b[39mshape\u001b[38;5;132;01m}\u001b[39;00m\u001b[38;5;124m\"\u001b[39m)\n\u001b[1;32m     34\u001b[0m \u001b[38;5;28;01mreturn\u001b[39;00m \u001b[38;5;28mself\u001b[39m\u001b[38;5;241m.\u001b[39moutput\n",
      "\u001b[0;31mRuntimeError\u001b[0m: Calculated padded input size per channel: (14 x 14). Kernel size: (32 x 32). Kernel size can't be greater than actual input size"
     ]
    }
   ],
   "source": [
    "max_epochs = 10\n",
    "batch_size = 32\n",
    "lossi = [] \n",
    "lrei = []\n",
    "steps = []\n",
    "\n",
    "# Set the model to training mode\n",
    "model.train()\n",
    "\n",
    "for epoch in range(max_epochs):\n",
    "    \n",
    "    # minibatch construct\n",
    "    ix = torch.randint(0, Xtr.shape[0], (batch_size,))\n",
    "    Xb, Yb = Xtr[ix], Ytr[ix] # batch X,Y\n",
    "    # Forward pass\n",
    "    logits = model(Xb)\n",
    "    loss = F.cross_entropy(logits, Yb.long())  # Convert target labels to Long data type\n",
    "    \n",
    "    # Zero gradients, backpropagate, and update weights\n",
    "    for p in parameters:\n",
    "        p.grad = None\n",
    "    loss.backward()\n",
    "    \n",
    "    lre = 0.05 if i < 10000 else 0.01\n",
    "    with torch.no_grad():\n",
    "        for p in parameters:\n",
    "            p -= p.grad * lre  # Update weights using learning rate\n",
    "    \n",
    "    lossi.append(loss.item())\n",
    "    lrei.append(lre)\n",
    "    steps.append(i)\n",
    "\n",
    "    # Print the loss every 1000 epochs\n",
    "    if epoch % 10000 == 0:\n",
    "        print(f'Epoch [{epoch}/{max_epochs}], Loss: {loss.item():.4f}')\n"
   ]
  },
  {
   "cell_type": "code",
   "execution_count": 51,
   "metadata": {},
   "outputs": [
    {
     "data": {
      "image/png": "[encoded data removed]",
      "text/plain": [
       "<Figure size 640x480 with 1 Axes>"
      ]
     },
     "metadata": {},
     "output_type": "display_data"
    }
   ],
   "source": [
    "plt.plot(torch.tensor(lossi).view(-1,10000).mean(1));\n",
    "\n"
   ]
  },
  {
   "cell_type": "code",
   "execution_count": 41,
   "metadata": {},
   "outputs": [],
   "source": [
    "# put layers into eval mode (needed for batchnorm especially)\n",
    "for layer in model.layers:\n",
    "  layer.training = False"
   ]
  },
  {
   "cell_type": "code",
   "execution_count": 53,
   "metadata": {},
   "outputs": [
    {
     "name": "stdout",
     "output_type": "stream",
     "text": [
      "train loss: 2.3026\n",
      "val loss: 2.3027\n"
     ]
    }
   ],
   "source": [
    "#Test the model with dev data\n",
    "@torch.no_grad() # this decorator disables gradient tracking\n",
    "def split_loss(value):\n",
    "    x,y = {'train': (Xtr, Ytr), 'val': (Xdev, Ydev)}[value]\n",
    "    logits = model(x)\n",
    "    loss = F.cross_entropy(logits, y.long())\n",
    "    print(f'{value} loss: {loss.item():.4f}')\n",
    "\n",
    "split_loss('train')\n",
    "split_loss('val')"
   ]
  },
  {
   "cell_type": "markdown",
   "metadata": {},
   "source": [
    "#Performance Log\n",
    "\n",
    "1) First version    : kernel_size = 3, n_kernels = 2, parameters = 13662, max_steps = 20000 --> train loss: 2.2277 | val loss: 2.2389\n",
    "1) First version (2): kernel_size = 3, n_kernels = 2, parameters = 20542, max_steps = 20000 --> train loss: 2.4063 | val loss: 2.4111"
   ]
  },
  {
   "cell_type": "code",
   "execution_count": 52,
   "metadata": {},
   "outputs": [
    {
     "name": "stdout",
     "output_type": "stream",
     "text": [
      "Accuracy: 9.76% (488/5000 correct)\n"
     ]
    },
    {
     "data": {
      "text/plain": [
       "9.76"
      ]
     },
     "execution_count": 52,
     "metadata": {},
     "output_type": "execute_result"
    }
   ],
   "source": [
    "import torch.nn.functional as F\n",
    "\n",
    "# During evaluation\n",
    "def evaluate_model(model, X_eval, Y_eval):\n",
    "    with torch.no_grad():\n",
    "        # Forward pass\n",
    "        logits = model(X_eval)\n",
    "\n",
    "        # Apply softmax to logits to get probabilities\n",
    "        probabilities = F.softmax(logits, dim=1)\n",
    "        \n",
    "        # Get predicted class by taking argmax of the probabilities\n",
    "        _, predicted_labels = torch.max(probabilities, dim=1)\n",
    "\n",
    "        correct_predictions = (predicted_labels == Y_eval).sum().item()\n",
    "        total_samples = Y_eval.shape[0]\n",
    "        accuracy = correct_predictions / total_samples * 100\n",
    "        \n",
    "        print(f\"Accuracy: {accuracy:.2f}% ({correct_predictions}/{total_samples} correct)\")\n",
    "    \n",
    "    return accuracy\n",
    "\n",
    "evaluate_model(model, Xte, Yte)"
   ]
  }
 ],
 "metadata": {
  "kernelspec": {
   "display_name": "Python 3",
   "language": "python",
   "name": "python3"
  },
  "language_info": {
   "codemirror_mode": {
    "name": "ipython",
    "version": 3
   },
   "file_extension": ".py",
   "mimetype": "text/x-python",
   "name": "python",
   "nbconvert_exporter": "python",
   "pygments_lexer": "ipython3",
   "version": "3.11.5"
  }
 },
 "nbformat": 4,
 "nbformat_minor": 2
}
