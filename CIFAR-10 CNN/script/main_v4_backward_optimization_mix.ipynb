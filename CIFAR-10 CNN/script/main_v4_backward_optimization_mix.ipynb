{
 "cells": [
  {
   "cell_type": "code",
   "execution_count": 147,
   "metadata": {},
   "outputs": [],
   "source": [
    "import numpy as np\n",
    "import torch\n",
    "import matplotlib.pyplot as plt\n",
    "import torch.nn.functional as F"
   ]
  },
  {
   "cell_type": "code",
   "execution_count": 148,
   "metadata": {},
   "outputs": [
    {
     "name": "stdout",
     "output_type": "stream",
     "text": [
      "torch.Size([50000, 3, 32, 32]) torch.Size([50000])\n"
     ]
    }
   ],
   "source": [
    "#Create X and Y arrays\n",
    "def unpickle(file):\n",
    "    import pickle\n",
    "    with open(file, 'rb') as fo:\n",
    "        dict = pickle.load(fo, encoding='bytes')\n",
    "    return dict\n",
    "\n",
    "# Initialize the final arrays correctly\n",
    "X_final_array = np.empty((0, 3072))  # CIFAR-10 has 3072 features (32x32x3)\n",
    "Y_final_array = np.empty((0,))  # Correct initialization for Y\n",
    "\n",
    "for i in range(1, 6):\n",
    "    # The path to the data\n",
    "    url = '/Users/josemiguelvilchesfierro/Downloads/cifar-10-batches-py/data_batch_'+str(i)\n",
    "\n",
    "    # Load the data\n",
    "    unpickle_data = unpickle(url)\n",
    "    \n",
    "    # This is the 'data' which is in uint8 format\n",
    "    X_temp = unpickle_data[b'data']\n",
    "    Y_temp = np.array(unpickle_data[b'labels'])  # Convert Y_temp to a NumPy array\n",
    "    \n",
    "    # Concatenate temp_array to final_array along axis 0\n",
    "    X_final_array = np.concatenate((X_final_array, X_temp), axis=0)\n",
    "    Y_final_array = np.concatenate((Y_final_array, Y_temp), axis=0)\n",
    "\n",
    "# Convert to tensors\n",
    "X = torch.tensor(X_final_array)\n",
    "X = X.view(-1, 3, 32, 32)  # Reshape to (batch_size, channels, height, width)\n",
    "Y = torch.tensor(Y_final_array)\n",
    "\n",
    "print(X.shape, Y.shape)"
   ]
  },
  {
   "cell_type": "code",
   "execution_count": 149,
   "metadata": {},
   "outputs": [
    {
     "name": "stdout",
     "output_type": "stream",
     "text": [
      "torch.Size([40000, 3, 32, 32]) torch.Size([40000])\n",
      "torch.Size([5000, 3, 32, 32]) torch.Size([5000])\n",
      "torch.Size([5000, 3, 32, 32]) torch.Size([5000])\n"
     ]
    }
   ],
   "source": [
    "#Create tain, dev and test data\n",
    "\n",
    "#Define the splits\n",
    "first_split = int(0.8 * len(X))\n",
    "second_split = int(0.9 * len(X))\n",
    "\n",
    "# Split the data into training, validation, and test sets\n",
    "Xtr, Ytr = X[:first_split], Y[:first_split]\n",
    "Xdev, Ydev = X[first_split:second_split], Y[first_split:second_split]\n",
    "Xte, Yte = X[second_split:], Y[second_split:]\n",
    "\n",
    "print (Xtr.shape, Ytr.shape)    \n",
    "print (Xdev.shape, Ydev.shape)\n",
    "print (Xte.shape, Yte.shape)"
   ]
  },
  {
   "cell_type": "code",
   "execution_count": 150,
   "metadata": {},
   "outputs": [
    {
     "name": "stderr",
     "output_type": "stream",
     "text": [
      "Clipping input data to the valid range for imshow with RGB data ([0..1] for floats or [0..255] for integers). Got range [0.0..255.0].\n",
      "Clipping input data to the valid range for imshow with RGB data ([0..1] for floats or [0..255] for integers). Got range [5.0..254.0].\n",
      "Clipping input data to the valid range for imshow with RGB data ([0..1] for floats or [0..255] for integers). Got range [20.0..255.0].\n",
      "Clipping input data to the valid range for imshow with RGB data ([0..1] for floats or [0..255] for integers). Got range [4.0..234.0].\n",
      "Clipping input data to the valid range for imshow with RGB data ([0..1] for floats or [0..255] for integers). Got range [0.0..254.0].\n"
     ]
    },
    {
     "data": {
      "image/png": "[encoded data removed]",
      "text/plain": [
       "<Figure size 1000x500 with 5 Axes>"
      ]
     },
     "metadata": {},
     "output_type": "display_data"
    }
   ],
   "source": [
    "#Showing pictures\n",
    "\n",
    "# Create a figure with subplots to display multiple images\n",
    "plt.figure(figsize=(10, 5))  # Adjust the size as needed\n",
    "\n",
    "# Loop to display 10 images\n",
    "for i in range(5):\n",
    "    plt.subplot(2, 5, i + 1)  # Create a 2x5 grid of subplots\n",
    "    img = X[i].reshape(3, 32, 32).permute(1, 2, 0)  # Reshape and permute the image tensor\n",
    "    plt.imshow(img.detach().numpy())  # Convert to NumPy and display\n",
    "\n",
    "plt.tight_layout()  # Adjust layout to prevent overlap\n",
    "plt.show()  # Show all images"
   ]
  },
  {
   "cell_type": "code",
   "execution_count": 151,
   "metadata": {},
   "outputs": [],
   "source": [
    "import torch\n",
    "import torch.nn.functional as F\n",
    "\n",
    "class linear:\n",
    "    def __init__(self, input_size, output_size):\n",
    "        self.weights = torch.randn(input_size, output_size, dtype=torch.float32) * 0.3\n",
    "        self.biases = torch.zeros(output_size, dtype=torch.float32) * 0.3\n",
    "\n",
    "    def forward(self, input):\n",
    "        self.input = input.float()\n",
    "        self.output = torch.mm(self.input, self.weights) + self.biases\n",
    "        return self.output\n",
    "\n",
    "    def __call__(self, X):\n",
    "        return self.forward(X)\n",
    "    \n",
    "    def parameters(self):\n",
    "        return [self.weights] if self.biases is None else [self.weights, self.biases]\n",
    "\n",
    "#----------------------------------------------------------------------\n",
    "class convolutional:\n",
    "    def __init__(self, input_depth, kernel_size, n_kernels):\n",
    "        self.input_depth = input_depth\n",
    "        self.kernel_size = kernel_size\n",
    "        self.n_kernels = n_kernels\n",
    "        self.kernels = torch.randn(n_kernels, input_depth, kernel_size, kernel_size, dtype=torch.float32) * 0.3\n",
    "        self.biases = torch.zeros(n_kernels, dtype=torch.float32) * 0.3\n",
    "\n",
    "    def forward(self, input):\n",
    "        self.input = input.float()\n",
    "        self.output = F.conv2d(self.input, self.kernels, self.biases)\n",
    "        return self.output\n",
    "\n",
    "    \n",
    "    def __call__(self,X):\n",
    "        return self.forward(X)\n",
    "    \n",
    "    def parameters(self):\n",
    "        return [self.kernels, self.biases]\n",
    "#----------------------------------------------------------------------\n",
    "class sequential:\n",
    "    def __init__(self, layers):\n",
    "        self.layers = layers      \n",
    "\n",
    "    def __call__(self, x):\n",
    "        for layer in self.layers:\n",
    "            x = layer(x)\n",
    "        return x\n",
    "    \n",
    "    def parameters(self):\n",
    "        # get parameters of all layers and stretch them out into one list\n",
    "        self.out = [p for layer in self.layers for p in layer.parameters()]\n",
    "        return self.out\n",
    "\n",
    "#----------------------------------------------------------------------\n",
    "class ReLU:\n",
    "    def __call__(self, x):\n",
    "        return torch.relu(x)\n",
    "    \n",
    "    def parameters(self):\n",
    "        return []\n",
    "#----------------------------------------------------------------------\n",
    "\n",
    "class reshape():\n",
    "    def __init__(self, output_shape):\n",
    "        self.output_shape = output_shape\n",
    "\n",
    "    def __call__(self, X):\n",
    "        return self.forward(X)\n",
    "\n",
    "    def forward(self, input):\n",
    "        #print(f\"Reshape Input shape : {input.shape}\")\n",
    "        batch_size = input.shape[0]\n",
    "        self.output = input.view(batch_size, -1)  # Flatten the input dynamically\n",
    "        #print(f\"Reshape Output shape : {self.output.shape}\")\n",
    "        return self.output\n",
    "    \n",
    "    def parameters(self):\n",
    "        return []\n"
   ]
  },
  {
   "cell_type": "code",
   "execution_count": 154,
   "metadata": {},
   "outputs": [
    {
     "name": "stdout",
     "output_type": "stream",
     "text": [
      "113258\n"
     ]
    }
   ],
   "source": [
    "# Define your kernel size and number of kernels\n",
    "kernel_size = 3\n",
    "n_kernels = 16\n",
    "\n",
    "# Build the model\n",
    "model = sequential([\n",
    "    convolutional(3, kernel_size, n_kernels), ReLU(),  # First conv layer\n",
    "    convolutional(n_kernels, kernel_size, n_kernels), ReLU(),  # Second conv layer\n",
    "    convolutional(n_kernels, kernel_size, n_kernels), ReLU(),  # Third conv layer\n",
    "    reshape([n_kernels * 26 * 26]),  # Reshape to a flat vector\n",
    "    linear(n_kernels * 26 * 26, 10),  # Match the size expected\n",
    "])\n",
    "\n",
    "#Set parameters to train\n",
    "parameters = model.parameters()\n",
    "print(sum(p.nelement() for p in parameters)) # number of parameters in total\n",
    "for p in parameters:\n",
    "  p.requires_grad = True"
   ]
  },
  {
   "cell_type": "code",
   "execution_count": 155,
   "metadata": {},
   "outputs": [
    {
     "name": "stdout",
     "output_type": "stream",
     "text": [
      "      0/  20000: 58117.8945\n",
      "   1000/  20000: 2.3021\n",
      "   2000/  20000: 2.3024\n",
      "   3000/  20000: 2.3026\n",
      "   4000/  20000: 2.3026\n",
      "   5000/  20000: 2.3017\n",
      "   6000/  20000: 2.3031\n",
      "   7000/  20000: 2.3026\n",
      "   8000/  20000: 2.3029\n",
      "   9000/  20000: 2.3020\n",
      "  10000/  20000: 2.3031\n",
      "  11000/  20000: 2.3024\n",
      "  12000/  20000: 2.3029\n",
      "  13000/  20000: 2.3026\n",
      "  14000/  20000: 2.3032\n"
     ]
    },
    {
     "ename": "KeyboardInterrupt",
     "evalue": "",
     "output_type": "error",
     "traceback": [
      "\u001b[0;31m---------------------------------------------------------------------------\u001b[0m",
      "\u001b[0;31mKeyboardInterrupt\u001b[0m                         Traceback (most recent call last)",
      "Cell \u001b[0;32mIn[155], line 18\u001b[0m\n\u001b[1;32m     16\u001b[0m \u001b[38;5;28;01mfor\u001b[39;00m p \u001b[38;5;129;01min\u001b[39;00m parameters:\n\u001b[1;32m     17\u001b[0m     p\u001b[38;5;241m.\u001b[39mgrad \u001b[38;5;241m=\u001b[39m \u001b[38;5;28;01mNone\u001b[39;00m  \u001b[38;5;66;03m# Reset the gradients\u001b[39;00m\n\u001b[0;32m---> 18\u001b[0m \u001b[43mloss\u001b[49m\u001b[38;5;241;43m.\u001b[39;49m\u001b[43mbackward\u001b[49m\u001b[43m(\u001b[49m\u001b[43m)\u001b[49m\n\u001b[1;32m     20\u001b[0m \u001b[38;5;66;03m# Update the weights\u001b[39;00m\n\u001b[1;32m     21\u001b[0m lre \u001b[38;5;241m=\u001b[39m \u001b[38;5;241m0.001\u001b[39m \u001b[38;5;66;03m#0.05 if i < 10000 else 0.01\u001b[39;00m\n",
      "File \u001b[0;32m/Library/Frameworks/Python.framework/Versions/3.11/lib/python3.11/site-packages/torch/_tensor.py:522\u001b[0m, in \u001b[0;36mTensor.backward\u001b[0;34m(self, gradient, retain_graph, create_graph, inputs)\u001b[0m\n\u001b[1;32m    512\u001b[0m \u001b[38;5;28;01mif\u001b[39;00m has_torch_function_unary(\u001b[38;5;28mself\u001b[39m):\n\u001b[1;32m    513\u001b[0m     \u001b[38;5;28;01mreturn\u001b[39;00m handle_torch_function(\n\u001b[1;32m    514\u001b[0m         Tensor\u001b[38;5;241m.\u001b[39mbackward,\n\u001b[1;32m    515\u001b[0m         (\u001b[38;5;28mself\u001b[39m,),\n\u001b[0;32m   (...)\u001b[0m\n\u001b[1;32m    520\u001b[0m         inputs\u001b[38;5;241m=\u001b[39minputs,\n\u001b[1;32m    521\u001b[0m     )\n\u001b[0;32m--> 522\u001b[0m \u001b[43mtorch\u001b[49m\u001b[38;5;241;43m.\u001b[39;49m\u001b[43mautograd\u001b[49m\u001b[38;5;241;43m.\u001b[39;49m\u001b[43mbackward\u001b[49m\u001b[43m(\u001b[49m\n\u001b[1;32m    523\u001b[0m \u001b[43m    \u001b[49m\u001b[38;5;28;43mself\u001b[39;49m\u001b[43m,\u001b[49m\u001b[43m \u001b[49m\u001b[43mgradient\u001b[49m\u001b[43m,\u001b[49m\u001b[43m \u001b[49m\u001b[43mretain_graph\u001b[49m\u001b[43m,\u001b[49m\u001b[43m \u001b[49m\u001b[43mcreate_graph\u001b[49m\u001b[43m,\u001b[49m\u001b[43m \u001b[49m\u001b[43minputs\u001b[49m\u001b[38;5;241;43m=\u001b[39;49m\u001b[43minputs\u001b[49m\n\u001b[1;32m    524\u001b[0m \u001b[43m\u001b[49m\u001b[43m)\u001b[49m\n",
      "File \u001b[0;32m/Library/Frameworks/Python.framework/Versions/3.11/lib/python3.11/site-packages/torch/autograd/__init__.py:266\u001b[0m, in \u001b[0;36mbackward\u001b[0;34m(tensors, grad_tensors, retain_graph, create_graph, grad_variables, inputs)\u001b[0m\n\u001b[1;32m    261\u001b[0m     retain_graph \u001b[38;5;241m=\u001b[39m create_graph\n\u001b[1;32m    263\u001b[0m \u001b[38;5;66;03m# The reason we repeat the same comment below is that\u001b[39;00m\n\u001b[1;32m    264\u001b[0m \u001b[38;5;66;03m# some Python versions print out the first line of a multi-line function\u001b[39;00m\n\u001b[1;32m    265\u001b[0m \u001b[38;5;66;03m# calls in the traceback and some print out the last line\u001b[39;00m\n\u001b[0;32m--> 266\u001b[0m \u001b[43mVariable\u001b[49m\u001b[38;5;241;43m.\u001b[39;49m\u001b[43m_execution_engine\u001b[49m\u001b[38;5;241;43m.\u001b[39;49m\u001b[43mrun_backward\u001b[49m\u001b[43m(\u001b[49m\u001b[43m  \u001b[49m\u001b[38;5;66;43;03m# Calls into the C++ engine to run the backward pass\u001b[39;49;00m\n\u001b[1;32m    267\u001b[0m \u001b[43m    \u001b[49m\u001b[43mtensors\u001b[49m\u001b[43m,\u001b[49m\n\u001b[1;32m    268\u001b[0m \u001b[43m    \u001b[49m\u001b[43mgrad_tensors_\u001b[49m\u001b[43m,\u001b[49m\n\u001b[1;32m    269\u001b[0m \u001b[43m    \u001b[49m\u001b[43mretain_graph\u001b[49m\u001b[43m,\u001b[49m\n\u001b[1;32m    270\u001b[0m \u001b[43m    \u001b[49m\u001b[43mcreate_graph\u001b[49m\u001b[43m,\u001b[49m\n\u001b[1;32m    271\u001b[0m \u001b[43m    \u001b[49m\u001b[43minputs\u001b[49m\u001b[43m,\u001b[49m\n\u001b[1;32m    272\u001b[0m \u001b[43m    \u001b[49m\u001b[43mallow_unreachable\u001b[49m\u001b[38;5;241;43m=\u001b[39;49m\u001b[38;5;28;43;01mTrue\u001b[39;49;00m\u001b[43m,\u001b[49m\n\u001b[1;32m    273\u001b[0m \u001b[43m    \u001b[49m\u001b[43maccumulate_grad\u001b[49m\u001b[38;5;241;43m=\u001b[39;49m\u001b[38;5;28;43;01mTrue\u001b[39;49;00m\u001b[43m,\u001b[49m\n\u001b[1;32m    274\u001b[0m \u001b[43m\u001b[49m\u001b[43m)\u001b[49m\n",
      "\u001b[0;31mKeyboardInterrupt\u001b[0m: "
     ]
    }
   ],
   "source": [
    "max_steps = 20000\n",
    "batch_size = 64\n",
    "lossi = [] \n",
    "lrei = []\n",
    "steps = []\n",
    "\n",
    "for i in range(max_steps):\n",
    "    # minibatch construct\n",
    "    ix = torch.randint(0, Xtr.shape[0], (batch_size,))\n",
    "    Xb, Yb = Xtr[ix], Ytr[ix] # batch X,Y\n",
    "    # Forward pass\n",
    "    logits = model(Xb)\n",
    "    loss = F.cross_entropy(logits, Yb.long())\n",
    "    #print(loss)\n",
    "    # backward pass\n",
    "    for p in parameters:\n",
    "        p.grad = None  # Reset the gradients\n",
    "    loss.backward()\n",
    "\n",
    "    # Update the weights\n",
    "    lre = 0.001 #0.05 if i < 10000 else 0.01\n",
    "    with torch.no_grad():\n",
    "        for p in parameters:\n",
    "            p -= p.grad * lre\n",
    "            p.grad.zero_()\n",
    "    \n",
    "\n",
    "    lossi.append(loss.item())\n",
    "    lrei.append(lre)\n",
    "    steps.append(i)\n",
    "    if i % 1000 == 0:\n",
    "        print(f'{i:7d}/{max_steps:7d}: {loss.item():.4f}')\n",
    "\n"
   ]
  },
  {
   "cell_type": "code",
   "execution_count": null,
   "metadata": {},
   "outputs": [
    {
     "data": {
      "image/png": "[encoded data removed]",
      "text/plain": [
       "<Figure size 640x480 with 1 Axes>"
      ]
     },
     "metadata": {},
     "output_type": "display_data"
    }
   ],
   "source": [
    "plt.plot(torch.tensor(lossi).view(-1,1000).mean(1));"
   ]
  },
  {
   "cell_type": "code",
   "execution_count": null,
   "metadata": {},
   "outputs": [],
   "source": [
    "# put layers into eval mode (needed for batchnorm especially)\n",
    "for layer in model.layers:\n",
    "  layer.training = False"
   ]
  },
  {
   "cell_type": "code",
   "execution_count": null,
   "metadata": {},
   "outputs": [
    {
     "name": "stdout",
     "output_type": "stream",
     "text": [
      "train loss: 2.3026\n",
      "val loss: 2.3029\n"
     ]
    }
   ],
   "source": [
    "#Test the model with dev data\n",
    "@torch.no_grad() # this decorator disables gradient tracking\n",
    "def split_loss(value):\n",
    "    x,y = {'train': (Xtr, Ytr), 'val': (Xdev, Ydev)}[value]\n",
    "    logits = model(x)\n",
    "    loss = F.cross_entropy(logits, y.long())\n",
    "    print(f'{value} loss: {loss.item():.4f}')\n",
    "\n",
    "split_loss('train')\n",
    "split_loss('val')"
   ]
  },
  {
   "cell_type": "markdown",
   "metadata": {},
   "source": [
    "#Performance Log\n",
    "\n",
    "1) First version    : kernel_size = 3, n_kernels = 2, parameters = 13662, max_steps = 20000 --> train loss: 2.2277 | val loss: 2.2389\n",
    "1) First version (2): kernel_size = 3, n_kernels = 2, parameters = 20542, max_steps = 20000 --> train loss: 2.4063 | val loss: 2.4111"
   ]
  },
  {
   "cell_type": "code",
   "execution_count": null,
   "metadata": {},
   "outputs": [
    {
     "name": "stdout",
     "output_type": "stream",
     "text": [
      "Accuracy: 9.58% (479/5000 correct)\n"
     ]
    },
    {
     "data": {
      "text/plain": [
       "9.58"
      ]
     },
     "execution_count": 138,
     "metadata": {},
     "output_type": "execute_result"
    }
   ],
   "source": [
    "import torch.nn.functional as F\n",
    "\n",
    "# During evaluation\n",
    "def evaluate_model(model, X_eval, Y_eval):\n",
    "    with torch.no_grad():\n",
    "        # Forward pass\n",
    "        logits = model(X_eval)\n",
    "\n",
    "        # Apply softmax to logits to get probabilities\n",
    "        probabilities = F.softmax(logits, dim=1)\n",
    "        \n",
    "        # Get predicted class by taking argmax of the probabilities\n",
    "        _, predicted_labels = torch.max(probabilities, dim=1)\n",
    "\n",
    "        correct_predictions = (predicted_labels == Y_eval).sum().item()\n",
    "        total_samples = Y_eval.shape[0]\n",
    "        accuracy = correct_predictions / total_samples * 100\n",
    "        \n",
    "        print(f\"Accuracy: {accuracy:.2f}% ({correct_predictions}/{total_samples} correct)\")\n",
    "    \n",
    "    return accuracy\n",
    "\n",
    "evaluate_model(model, Xte, Yte)"
   ]
  },
  {
   "cell_type": "code",
   "execution_count": null,
   "metadata": {},
   "outputs": [
    {
     "data": {
      "image/png": "[encoded data removed]",
      "text/plain": [
       "<Figure size 640x480 with 1 Axes>"
      ]
     },
     "metadata": {},
     "output_type": "display_data"
    }
   ],
   "source": [
    "plt.hist(predicted_labels.detach().numpy());\n"
   ]
  }
 ],
 "metadata": {
  "kernelspec": {
   "display_name": "Python 3",
   "language": "python",
   "name": "python3"
  },
  "language_info": {
   "codemirror_mode": {
    "name": "ipython",
    "version": 3
   },
   "file_extension": ".py",
   "mimetype": "text/x-python",
   "name": "python",
   "nbconvert_exporter": "python",
   "pygments_lexer": "ipython3",
   "version": "3.11.5"
  }
 },
 "nbformat": 4,
 "nbformat_minor": 2
}
